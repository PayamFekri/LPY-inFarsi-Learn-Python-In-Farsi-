{
 "cells": [
  {
   "cell_type": "code",
   "execution_count": 32,
   "id": "deee4a95-044f-4c60-82c1-a3ee477567f1",
   "metadata": {},
   "outputs": [],
   "source": [
    "import pandas as  pd\n",
    "import numpy as np"
   ]
  },
  {
   "cell_type": "code",
   "execution_count": 22,
   "id": "027b40b6-6593-4a61-a16e-120528b29603",
   "metadata": {},
   "outputs": [
    {
     "data": {
      "text/html": [
       "<div>\n",
       "<style scoped>\n",
       "    .dataframe tbody tr th:only-of-type {\n",
       "        vertical-align: middle;\n",
       "    }\n",
       "\n",
       "    .dataframe tbody tr th {\n",
       "        vertical-align: top;\n",
       "    }\n",
       "\n",
       "    .dataframe thead th {\n",
       "        text-align: right;\n",
       "    }\n",
       "</style>\n",
       "<table border=\"1\" class=\"dataframe\">\n",
       "  <thead>\n",
       "    <tr style=\"text-align: right;\">\n",
       "      <th></th>\n",
       "      <th>Age</th>\n",
       "    </tr>\n",
       "  </thead>\n",
       "  <tbody>\n",
       "    <tr>\n",
       "      <th>count</th>\n",
       "      <td>3.000000</td>\n",
       "    </tr>\n",
       "    <tr>\n",
       "      <th>mean</th>\n",
       "      <td>23.333333</td>\n",
       "    </tr>\n",
       "    <tr>\n",
       "      <th>std</th>\n",
       "      <td>6.110101</td>\n",
       "    </tr>\n",
       "    <tr>\n",
       "      <th>min</th>\n",
       "      <td>18.000000</td>\n",
       "    </tr>\n",
       "    <tr>\n",
       "      <th>25%</th>\n",
       "      <td>20.000000</td>\n",
       "    </tr>\n",
       "    <tr>\n",
       "      <th>50%</th>\n",
       "      <td>22.000000</td>\n",
       "    </tr>\n",
       "    <tr>\n",
       "      <th>75%</th>\n",
       "      <td>26.000000</td>\n",
       "    </tr>\n",
       "    <tr>\n",
       "      <th>max</th>\n",
       "      <td>30.000000</td>\n",
       "    </tr>\n",
       "  </tbody>\n",
       "</table>\n",
       "</div>"
      ],
      "text/plain": [
       "             Age\n",
       "count   3.000000\n",
       "mean   23.333333\n",
       "std     6.110101\n",
       "min    18.000000\n",
       "25%    20.000000\n",
       "50%    22.000000\n",
       "75%    26.000000\n",
       "max    30.000000"
      ]
     },
     "execution_count": 22,
     "metadata": {},
     "output_type": "execute_result"
    }
   ],
   "source": [
    "#یک کتابخانه ایجاد کنیم کلا\n",
    "df = pd.DataFrame(\n",
    "    {\n",
    "        \"Name\" : [\"Hamid\",\"ALi\",\"Marzie\"],\n",
    "        \"Age\"  : [  22,    30,     18   ],\n",
    "        \"Sex\"  : [\"male\",\"male\",\"female\"]\n",
    "    }\n",
    ")\n",
    "(df.describe(include='number'))#for numberical data"
   ]
  },
  {
   "cell_type": "code",
   "execution_count": 68,
   "id": "d6c44270-2918-4fab-91ac-1d5ff555d027",
   "metadata": {},
   "outputs": [],
   "source": [
    "#how to save dataframe:\n",
    "#df.to_csv(\"mydf.csv\")\n",
    "#df.to_csv(\"mydf.csv\",index=False) \n",
    "#index=False: It can be saved without an index."
   ]
  },
  {
   "cell_type": "code",
   "execution_count": 23,
   "id": "f4e7d4f0-5fcd-410c-bed3-eb89d557664c",
   "metadata": {},
   "outputs": [
    {
     "data": {
      "text/html": [
       "<div>\n",
       "<style scoped>\n",
       "    .dataframe tbody tr th:only-of-type {\n",
       "        vertical-align: middle;\n",
       "    }\n",
       "\n",
       "    .dataframe tbody tr th {\n",
       "        vertical-align: top;\n",
       "    }\n",
       "\n",
       "    .dataframe thead th {\n",
       "        text-align: right;\n",
       "    }\n",
       "</style>\n",
       "<table border=\"1\" class=\"dataframe\">\n",
       "  <thead>\n",
       "    <tr style=\"text-align: right;\">\n",
       "      <th></th>\n",
       "      <th>Name</th>\n",
       "      <th>Age</th>\n",
       "      <th>Sex</th>\n",
       "    </tr>\n",
       "  </thead>\n",
       "  <tbody>\n",
       "    <tr>\n",
       "      <th>count</th>\n",
       "      <td>3</td>\n",
       "      <td>3.000000</td>\n",
       "      <td>3</td>\n",
       "    </tr>\n",
       "    <tr>\n",
       "      <th>unique</th>\n",
       "      <td>3</td>\n",
       "      <td>NaN</td>\n",
       "      <td>2</td>\n",
       "    </tr>\n",
       "    <tr>\n",
       "      <th>top</th>\n",
       "      <td>Hamid</td>\n",
       "      <td>NaN</td>\n",
       "      <td>male</td>\n",
       "    </tr>\n",
       "    <tr>\n",
       "      <th>freq</th>\n",
       "      <td>1</td>\n",
       "      <td>NaN</td>\n",
       "      <td>2</td>\n",
       "    </tr>\n",
       "    <tr>\n",
       "      <th>mean</th>\n",
       "      <td>NaN</td>\n",
       "      <td>23.333333</td>\n",
       "      <td>NaN</td>\n",
       "    </tr>\n",
       "    <tr>\n",
       "      <th>std</th>\n",
       "      <td>NaN</td>\n",
       "      <td>6.110101</td>\n",
       "      <td>NaN</td>\n",
       "    </tr>\n",
       "    <tr>\n",
       "      <th>min</th>\n",
       "      <td>NaN</td>\n",
       "      <td>18.000000</td>\n",
       "      <td>NaN</td>\n",
       "    </tr>\n",
       "    <tr>\n",
       "      <th>25%</th>\n",
       "      <td>NaN</td>\n",
       "      <td>20.000000</td>\n",
       "      <td>NaN</td>\n",
       "    </tr>\n",
       "    <tr>\n",
       "      <th>50%</th>\n",
       "      <td>NaN</td>\n",
       "      <td>22.000000</td>\n",
       "      <td>NaN</td>\n",
       "    </tr>\n",
       "    <tr>\n",
       "      <th>75%</th>\n",
       "      <td>NaN</td>\n",
       "      <td>26.000000</td>\n",
       "      <td>NaN</td>\n",
       "    </tr>\n",
       "    <tr>\n",
       "      <th>max</th>\n",
       "      <td>NaN</td>\n",
       "      <td>30.000000</td>\n",
       "      <td>NaN</td>\n",
       "    </tr>\n",
       "  </tbody>\n",
       "</table>\n",
       "</div>"
      ],
      "text/plain": [
       "         Name        Age   Sex\n",
       "count       3   3.000000     3\n",
       "unique      3        NaN     2\n",
       "top     Hamid        NaN  male\n",
       "freq        1        NaN     2\n",
       "mean      NaN  23.333333   NaN\n",
       "std       NaN   6.110101   NaN\n",
       "min       NaN  18.000000   NaN\n",
       "25%       NaN  20.000000   NaN\n",
       "50%       NaN  22.000000   NaN\n",
       "75%       NaN  26.000000   NaN\n",
       "max       NaN  30.000000   NaN"
      ]
     },
     "execution_count": 23,
     "metadata": {},
     "output_type": "execute_result"
    }
   ],
   "source": [
    "(df.describe(include='all'))#for both numberical and textual data"
   ]
  },
  {
   "cell_type": "code",
   "execution_count": 24,
   "id": "88818d3c-3c97-4269-be08-6d002605ed3f",
   "metadata": {},
   "outputs": [
    {
     "data": {
      "text/html": [
       "<div>\n",
       "<style scoped>\n",
       "    .dataframe tbody tr th:only-of-type {\n",
       "        vertical-align: middle;\n",
       "    }\n",
       "\n",
       "    .dataframe tbody tr th {\n",
       "        vertical-align: top;\n",
       "    }\n",
       "\n",
       "    .dataframe thead th {\n",
       "        text-align: right;\n",
       "    }\n",
       "</style>\n",
       "<table border=\"1\" class=\"dataframe\">\n",
       "  <thead>\n",
       "    <tr style=\"text-align: right;\">\n",
       "      <th></th>\n",
       "      <th>Age</th>\n",
       "    </tr>\n",
       "  </thead>\n",
       "  <tbody>\n",
       "    <tr>\n",
       "      <th>count</th>\n",
       "      <td>3.000000</td>\n",
       "    </tr>\n",
       "    <tr>\n",
       "      <th>mean</th>\n",
       "      <td>23.333333</td>\n",
       "    </tr>\n",
       "    <tr>\n",
       "      <th>std</th>\n",
       "      <td>6.110101</td>\n",
       "    </tr>\n",
       "    <tr>\n",
       "      <th>min</th>\n",
       "      <td>18.000000</td>\n",
       "    </tr>\n",
       "    <tr>\n",
       "      <th>25%</th>\n",
       "      <td>20.000000</td>\n",
       "    </tr>\n",
       "    <tr>\n",
       "      <th>50%</th>\n",
       "      <td>22.000000</td>\n",
       "    </tr>\n",
       "    <tr>\n",
       "      <th>75%</th>\n",
       "      <td>26.000000</td>\n",
       "    </tr>\n",
       "    <tr>\n",
       "      <th>max</th>\n",
       "      <td>30.000000</td>\n",
       "    </tr>\n",
       "  </tbody>\n",
       "</table>\n",
       "</div>"
      ],
      "text/plain": [
       "             Age\n",
       "count   3.000000\n",
       "mean   23.333333\n",
       "std     6.110101\n",
       "min    18.000000\n",
       "25%    20.000000\n",
       "50%    22.000000\n",
       "75%    26.000000\n",
       "max    30.000000"
      ]
     },
     "execution_count": 24,
     "metadata": {},
     "output_type": "execute_result"
    }
   ],
   "source": [
    "df.describe() #summary description"
   ]
  },
  {
   "cell_type": "code",
   "execution_count": 25,
   "id": "df3b69d7-8e2e-4ae2-84bb-72911f3147a0",
   "metadata": {},
   "outputs": [
    {
     "data": {
      "text/plain": [
       "0     Hamid\n",
       "1       ALi\n",
       "2    Marzie\n",
       "Name: Name, dtype: object"
      ]
     },
     "execution_count": 25,
     "metadata": {},
     "output_type": "execute_result"
    }
   ],
   "source": [
    "(df[\"Name\"])"
   ]
  },
  {
   "cell_type": "code",
   "execution_count": 26,
   "id": "17b2eb0f-9fce-483f-936d-903369b40b95",
   "metadata": {},
   "outputs": [
    {
     "data": {
      "text/plain": [
       "np.int64(30)"
      ]
     },
     "execution_count": 26,
     "metadata": {},
     "output_type": "execute_result"
    }
   ],
   "source": [
    "df['Age'].max()"
   ]
  },
  {
   "cell_type": "code",
   "execution_count": 27,
   "id": "4bcd9275-1040-4ecb-a252-381b2d728171",
   "metadata": {},
   "outputs": [
    {
     "name": "stdout",
     "output_type": "stream",
     "text": [
      "0    0.390084\n",
      "1    1.564246\n",
      "2   -0.755311\n",
      "3    0.867541\n",
      "4   -1.201954\n",
      "5   -0.618286\n",
      "6   -0.267076\n",
      "7   -0.842480\n",
      "8    2.007761\n",
      "9   -0.133990\n",
      "dtype: float64 \n",
      "----------\n"
     ]
    },
    {
     "data": {
      "text/plain": [
       "(0    0.390084\n",
       " 2   -0.755311\n",
       " 4   -1.201954\n",
       " 6   -0.267076\n",
       " 8    2.007761\n",
       " dtype: float64,\n",
       " 'inew')"
      ]
     },
     "execution_count": 27,
     "metadata": {},
     "output_type": "execute_result"
    }
   ],
   "source": [
    "s = pd.Series(np.random.randn(10))\n",
    "print(s,'\\n----------')\n",
    "(s[::2],'inew')"
   ]
  },
  {
   "cell_type": "code",
   "execution_count": 30,
   "id": "f9d50ab2-6d77-4384-85a2-04f7729ace42",
   "metadata": {},
   "outputs": [
    {
     "data": {
      "text/plain": [
       "count    10.000000\n",
       "mean      0.101054\n",
       "std       1.078948\n",
       "min      -1.201954\n",
       "25%      -0.721055\n",
       "50%      -0.200533\n",
       "75%       0.748177\n",
       "max       2.007761\n",
       "dtype: float64"
      ]
     },
     "execution_count": 30,
     "metadata": {},
     "output_type": "execute_result"
    }
   ],
   "source": [
    "s.describe()"
   ]
  },
  {
   "cell_type": "markdown",
   "id": "dc97e803-d253-4698-9bbc-c035a9dac3d7",
   "metadata": {},
   "source": [
    "یک ستون بسازیم در حالت کلی:"
   ]
  },
  {
   "cell_type": "code",
   "execution_count": 31,
   "id": "79435a30-3ce9-4deb-812c-b8385f4cf58f",
   "metadata": {},
   "outputs": [
    {
     "data": {
      "text/plain": [
       "0    34\n",
       "1    23\n",
       "2    56\n",
       "3    34\n",
       "4    30\n",
       "5    47\n",
       "Name: integer number, dtype: int64"
      ]
     },
     "execution_count": 31,
     "metadata": {},
     "output_type": "execute_result"
    }
   ],
   "source": [
    "a = pd.Series([34,23,56,34,30,47], name = \"integer number\")\n",
    "a"
   ]
  },
  {
   "cell_type": "markdown",
   "id": "71a54d79-f514-4ff5-8600-603ec534c698",
   "metadata": {},
   "source": [
    "next cell create : 10 row , 5 col , naming col                                                    \n",
    "pd.DataFrame((import data),columns=[..])                                                          \n",
    "np.random.randn(row,col)"
   ]
  },
  {
   "cell_type": "code",
   "execution_count": 48,
   "id": "4f4f5fc1-ec54-49bb-8ffc-353ffb9ea667",
   "metadata": {},
   "outputs": [
    {
     "data": {
      "text/html": [
       "<div>\n",
       "<style scoped>\n",
       "    .dataframe tbody tr th:only-of-type {\n",
       "        vertical-align: middle;\n",
       "    }\n",
       "\n",
       "    .dataframe tbody tr th {\n",
       "        vertical-align: top;\n",
       "    }\n",
       "\n",
       "    .dataframe thead th {\n",
       "        text-align: right;\n",
       "    }\n",
       "</style>\n",
       "<table border=\"1\" class=\"dataframe\">\n",
       "  <thead>\n",
       "    <tr style=\"text-align: right;\">\n",
       "      <th></th>\n",
       "      <th>a</th>\n",
       "      <th>b</th>\n",
       "      <th>c</th>\n",
       "      <th>d</th>\n",
       "      <th>e</th>\n",
       "    </tr>\n",
       "  </thead>\n",
       "  <tbody>\n",
       "    <tr>\n",
       "      <th>0</th>\n",
       "      <td>2.058235</td>\n",
       "      <td>-2.196569</td>\n",
       "      <td>0.124112</td>\n",
       "      <td>-0.841333</td>\n",
       "      <td>-0.766921</td>\n",
       "    </tr>\n",
       "    <tr>\n",
       "      <th>1</th>\n",
       "      <td>0.890418</td>\n",
       "      <td>-0.796793</td>\n",
       "      <td>0.909336</td>\n",
       "      <td>1.743509</td>\n",
       "      <td>-1.376147</td>\n",
       "    </tr>\n",
       "    <tr>\n",
       "      <th>2</th>\n",
       "      <td>0.224803</td>\n",
       "      <td>1.415668</td>\n",
       "      <td>0.260021</td>\n",
       "      <td>0.537448</td>\n",
       "      <td>0.288229</td>\n",
       "    </tr>\n",
       "    <tr>\n",
       "      <th>3</th>\n",
       "      <td>0.225893</td>\n",
       "      <td>1.022329</td>\n",
       "      <td>-1.718148</td>\n",
       "      <td>0.037916</td>\n",
       "      <td>-2.372856</td>\n",
       "    </tr>\n",
       "    <tr>\n",
       "      <th>4</th>\n",
       "      <td>0.349301</td>\n",
       "      <td>-0.502754</td>\n",
       "      <td>-0.264849</td>\n",
       "      <td>0.167943</td>\n",
       "      <td>0.644108</td>\n",
       "    </tr>\n",
       "    <tr>\n",
       "      <th>5</th>\n",
       "      <td>0.201291</td>\n",
       "      <td>-0.296261</td>\n",
       "      <td>0.014633</td>\n",
       "      <td>0.732652</td>\n",
       "      <td>1.471150</td>\n",
       "    </tr>\n",
       "    <tr>\n",
       "      <th>6</th>\n",
       "      <td>1.165892</td>\n",
       "      <td>-0.118076</td>\n",
       "      <td>-0.056228</td>\n",
       "      <td>-0.097349</td>\n",
       "      <td>1.301279</td>\n",
       "    </tr>\n",
       "    <tr>\n",
       "      <th>7</th>\n",
       "      <td>-0.414091</td>\n",
       "      <td>-1.334371</td>\n",
       "      <td>-0.205098</td>\n",
       "      <td>0.900643</td>\n",
       "      <td>0.119391</td>\n",
       "    </tr>\n",
       "    <tr>\n",
       "      <th>8</th>\n",
       "      <td>1.368845</td>\n",
       "      <td>-0.512432</td>\n",
       "      <td>1.270571</td>\n",
       "      <td>-1.761282</td>\n",
       "      <td>-0.154617</td>\n",
       "    </tr>\n",
       "    <tr>\n",
       "      <th>9</th>\n",
       "      <td>0.112500</td>\n",
       "      <td>-0.390381</td>\n",
       "      <td>0.089412</td>\n",
       "      <td>-1.025157</td>\n",
       "      <td>2.084133</td>\n",
       "    </tr>\n",
       "  </tbody>\n",
       "</table>\n",
       "</div>"
      ],
      "text/plain": [
       "          a         b         c         d         e\n",
       "0  2.058235 -2.196569  0.124112 -0.841333 -0.766921\n",
       "1  0.890418 -0.796793  0.909336  1.743509 -1.376147\n",
       "2  0.224803  1.415668  0.260021  0.537448  0.288229\n",
       "3  0.225893  1.022329 -1.718148  0.037916 -2.372856\n",
       "4  0.349301 -0.502754 -0.264849  0.167943  0.644108\n",
       "5  0.201291 -0.296261  0.014633  0.732652  1.471150\n",
       "6  1.165892 -0.118076 -0.056228 -0.097349  1.301279\n",
       "7 -0.414091 -1.334371 -0.205098  0.900643  0.119391\n",
       "8  1.368845 -0.512432  1.270571 -1.761282 -0.154617\n",
       "9  0.112500 -0.390381  0.089412 -1.025157  2.084133"
      ]
     },
     "execution_count": 48,
     "metadata": {},
     "output_type": "execute_result"
    }
   ],
   "source": [
    "d = pd.DataFrame(np.random.randn(10,5),columns=['a','b','c','d','e'])\n",
    "d"
   ]
  },
  {
   "cell_type": "code",
   "execution_count": 56,
   "id": "adc5ffc4-60db-400e-b22a-a2c84506c807",
   "metadata": {},
   "outputs": [
    {
     "data": {
      "text/plain": [
       "0    b\n",
       "1    e\n",
       "2    a\n",
       "3    e\n",
       "4    b\n",
       "5    b\n",
       "6    b\n",
       "7    b\n",
       "8    d\n",
       "9    d\n",
       "dtype: object"
      ]
     },
     "execution_count": 56,
     "metadata": {},
     "output_type": "execute_result"
    }
   ],
   "source": [
    "d.idxmin(axis=1) # اندیس بزرگترین عدد رو در هر سطر بدست بیار"
   ]
  },
  {
   "cell_type": "code",
   "execution_count": 58,
   "id": "c68e7a34-c786-4e2a-a4ce-a1009a14ebfb",
   "metadata": {},
   "outputs": [
    {
     "data": {
      "text/plain": [
       "a    7\n",
       "b    0\n",
       "c    3\n",
       "d    8\n",
       "e    3\n",
       "dtype: int64"
      ]
     },
     "execution_count": 58,
     "metadata": {},
     "output_type": "execute_result"
    }
   ],
   "source": [
    "d.idxmin(axis=0)#اندیس  کمترین عدد رو در هر ستون بدست بیار "
   ]
  },
  {
   "cell_type": "code",
   "execution_count": 51,
   "id": "0314cafe-57b2-4e49-8699-aadce914a9c3",
   "metadata": {},
   "outputs": [
    {
     "data": {
      "text/html": [
       "<div>\n",
       "<style scoped>\n",
       "    .dataframe tbody tr th:only-of-type {\n",
       "        vertical-align: middle;\n",
       "    }\n",
       "\n",
       "    .dataframe tbody tr th {\n",
       "        vertical-align: top;\n",
       "    }\n",
       "\n",
       "    .dataframe thead th {\n",
       "        text-align: right;\n",
       "    }\n",
       "</style>\n",
       "<table border=\"1\" class=\"dataframe\">\n",
       "  <thead>\n",
       "    <tr style=\"text-align: right;\">\n",
       "      <th></th>\n",
       "      <th>a</th>\n",
       "      <th>b</th>\n",
       "      <th>c</th>\n",
       "      <th>d</th>\n",
       "      <th>e</th>\n",
       "    </tr>\n",
       "  </thead>\n",
       "  <tbody>\n",
       "    <tr>\n",
       "      <th>count</th>\n",
       "      <td>10.000000</td>\n",
       "      <td>10.000000</td>\n",
       "      <td>10.000000</td>\n",
       "      <td>10.000000</td>\n",
       "      <td>10.000000</td>\n",
       "    </tr>\n",
       "    <tr>\n",
       "      <th>mean</th>\n",
       "      <td>0.618309</td>\n",
       "      <td>-0.370964</td>\n",
       "      <td>0.042376</td>\n",
       "      <td>0.039499</td>\n",
       "      <td>0.123775</td>\n",
       "    </tr>\n",
       "    <tr>\n",
       "      <th>std</th>\n",
       "      <td>0.736914</td>\n",
       "      <td>1.037247</td>\n",
       "      <td>0.787536</td>\n",
       "      <td>1.030697</td>\n",
       "      <td>1.362046</td>\n",
       "    </tr>\n",
       "    <tr>\n",
       "      <th>min</th>\n",
       "      <td>-0.414091</td>\n",
       "      <td>-2.196569</td>\n",
       "      <td>-1.718148</td>\n",
       "      <td>-1.761282</td>\n",
       "      <td>-2.372856</td>\n",
       "    </tr>\n",
       "    <tr>\n",
       "      <th>25%</th>\n",
       "      <td>0.207169</td>\n",
       "      <td>-0.725703</td>\n",
       "      <td>-0.167881</td>\n",
       "      <td>-0.655337</td>\n",
       "      <td>-0.613845</td>\n",
       "    </tr>\n",
       "    <tr>\n",
       "      <th>50%</th>\n",
       "      <td>0.287597</td>\n",
       "      <td>-0.446568</td>\n",
       "      <td>0.052022</td>\n",
       "      <td>0.102929</td>\n",
       "      <td>0.203810</td>\n",
       "    </tr>\n",
       "    <tr>\n",
       "      <th>75%</th>\n",
       "      <td>1.097024</td>\n",
       "      <td>-0.162622</td>\n",
       "      <td>0.226044</td>\n",
       "      <td>0.683851</td>\n",
       "      <td>1.136986</td>\n",
       "    </tr>\n",
       "    <tr>\n",
       "      <th>max</th>\n",
       "      <td>2.058235</td>\n",
       "      <td>1.415668</td>\n",
       "      <td>1.270571</td>\n",
       "      <td>1.743509</td>\n",
       "      <td>2.084133</td>\n",
       "    </tr>\n",
       "  </tbody>\n",
       "</table>\n",
       "</div>"
      ],
      "text/plain": [
       "               a          b          c          d          e\n",
       "count  10.000000  10.000000  10.000000  10.000000  10.000000\n",
       "mean    0.618309  -0.370964   0.042376   0.039499   0.123775\n",
       "std     0.736914   1.037247   0.787536   1.030697   1.362046\n",
       "min    -0.414091  -2.196569  -1.718148  -1.761282  -2.372856\n",
       "25%     0.207169  -0.725703  -0.167881  -0.655337  -0.613845\n",
       "50%     0.287597  -0.446568   0.052022   0.102929   0.203810\n",
       "75%     1.097024  -0.162622   0.226044   0.683851   1.136986\n",
       "max     2.058235   1.415668   1.270571   1.743509   2.084133"
      ]
     },
     "execution_count": 51,
     "metadata": {},
     "output_type": "execute_result"
    }
   ],
   "source": [
    "d.describe()"
   ]
  },
  {
   "cell_type": "markdown",
   "id": "739ce415-c466-4edf-a0a6-f57764fd9092",
   "metadata": {},
   "source": [
    "create col that have 'nan' value: "
   ]
  },
  {
   "cell_type": "code",
   "execution_count": 39,
   "id": "d04ebb28-fed8-443d-a366-f54b71b31902",
   "metadata": {},
   "outputs": [
    {
     "data": {
      "text/plain": [
       "0       a\n",
       "1     NaN\n",
       "2       a\n",
       "3       a\n",
       "4      30\n",
       "5       a\n",
       "6       b\n",
       "7       b\n",
       "8     NaN\n",
       "9       d\n",
       "10     34\n",
       "dtype: object"
      ]
     },
     "execution_count": 39,
     "metadata": {},
     "output_type": "execute_result"
    }
   ],
   "source": [
    "pd.Series(['a',np.nan,'a','a',30,'a','b','b',np.nan,'d',34])"
   ]
  },
  {
   "cell_type": "code",
   "execution_count": 43,
   "id": "26644d36-330e-4118-8f80-49033db04da0",
   "metadata": {},
   "outputs": [
    {
     "data": {
      "text/plain": [
       "0   -0.817116\n",
       "1   -1.361754\n",
       "2   -0.258303\n",
       "3   -1.140997\n",
       "4    1.065210\n",
       "dtype: float64"
      ]
     },
     "execution_count": 43,
     "metadata": {},
     "output_type": "execute_result"
    }
   ],
   "source": [
    "a = pd.Series(np.random.randn(5))\n",
    "a"
   ]
  },
  {
   "cell_type": "markdown",
   "id": "fac5e090-9a90-4278-954a-ab864232672a",
   "metadata": {},
   "source": [
    "argmin and argmax in numpy = idxmin and idxmax in pandas !"
   ]
  },
  {
   "cell_type": "code",
   "execution_count": 45,
   "id": "3ba02a75-b43e-41c7-a249-f6ba68400742",
   "metadata": {},
   "outputs": [
    {
     "data": {
      "text/plain": [
       "4"
      ]
     },
     "execution_count": 45,
     "metadata": {},
     "output_type": "execute_result"
    }
   ],
   "source": [
    "a.idxmax() #اندیس بزرگترین را برمیگرداند "
   ]
  },
  {
   "cell_type": "code",
   "execution_count": 47,
   "id": "57459abe-871f-46a6-8fd5-8bdcadad63fa",
   "metadata": {},
   "outputs": [
    {
     "data": {
      "text/plain": [
       "1"
      ]
     },
     "execution_count": 47,
     "metadata": {},
     "output_type": "execute_result"
    }
   ],
   "source": [
    "a.idxmin() #اندیس کوچیک ترین را برمیگرداند "
   ]
  }
 ],
 "metadata": {
  "kernelspec": {
   "display_name": "Python 3 (ipykernel)",
   "language": "python",
   "name": "python3"
  },
  "language_info": {
   "codemirror_mode": {
    "name": "ipython",
    "version": 3
   },
   "file_extension": ".py",
   "mimetype": "text/x-python",
   "name": "python",
   "nbconvert_exporter": "python",
   "pygments_lexer": "ipython3",
   "version": "3.13.5"
  }
 },
 "nbformat": 4,
 "nbformat_minor": 5
}

{
 "cells": [
  {
   "cell_type": "markdown",
   "id": "1a71445a-a6a6-47fb-beb6-54d9df7943f8",
   "metadata": {},
   "source": [
    "\n",
    "<div style=\"direction:ltl;line-height:150%;\"><font face=\"B Nazanin\" size=3>\n",
    "<font color=#007E06 size=3>\n",
    "    <h1>PANDAS</h1>\n",
    "</font>\n",
    "Description:\n",
    "\n",
    "Learn the basics of Pandas for data analysis in Jupyter! This notebook covers :\n",
    "\n",
    "&nbsp;&nbsp;&nbsp;&nbsp;-Loading & exploring data\n",
    "\n",
    "&nbsp;&nbsp;&nbsp;&nbsp;-Data cleaning & manipulation\n",
    "\n",
    "&nbsp;&nbsp;&nbsp;&nbsp;-Essential functions (filtering, grouping, aggregations)\n",
    "\n",
    "&nbsp;&nbsp;&nbsp;&nbsp;-Simple visualizations\n",
    "\n",
    "Perfect for beginners! 🚀\n",
    "<font size=4 >\n",
    " \n",
    "</font>\n",
    "</div>"
   ]
  },
  {
   "cell_type": "code",
   "execution_count": 47,
   "id": "deee4a95-044f-4c60-82c1-a3ee477567f1",
   "metadata": {},
   "outputs": [],
   "source": [
    "import pandas as  pd\n",
    "import numpy as np"
   ]
  },
  {
   "cell_type": "code",
   "execution_count": 30,
   "id": "027b40b6-6593-4a61-a16e-120528b29603",
   "metadata": {},
   "outputs": [
    {
     "data": {
      "text/html": [
       "<div>\n",
       "<style scoped>\n",
       "    .dataframe tbody tr th:only-of-type {\n",
       "        vertical-align: middle;\n",
       "    }\n",
       "\n",
       "    .dataframe tbody tr th {\n",
       "        vertical-align: top;\n",
       "    }\n",
       "\n",
       "    .dataframe thead th {\n",
       "        text-align: right;\n",
       "    }\n",
       "</style>\n",
       "<table border=\"1\" class=\"dataframe\">\n",
       "  <thead>\n",
       "    <tr style=\"text-align: right;\">\n",
       "      <th></th>\n",
       "      <th>Age</th>\n",
       "    </tr>\n",
       "  </thead>\n",
       "  <tbody>\n",
       "    <tr>\n",
       "      <th>count</th>\n",
       "      <td>3.000000</td>\n",
       "    </tr>\n",
       "    <tr>\n",
       "      <th>mean</th>\n",
       "      <td>23.333333</td>\n",
       "    </tr>\n",
       "    <tr>\n",
       "      <th>std</th>\n",
       "      <td>6.110101</td>\n",
       "    </tr>\n",
       "    <tr>\n",
       "      <th>min</th>\n",
       "      <td>18.000000</td>\n",
       "    </tr>\n",
       "    <tr>\n",
       "      <th>25%</th>\n",
       "      <td>20.000000</td>\n",
       "    </tr>\n",
       "    <tr>\n",
       "      <th>50%</th>\n",
       "      <td>22.000000</td>\n",
       "    </tr>\n",
       "    <tr>\n",
       "      <th>75%</th>\n",
       "      <td>26.000000</td>\n",
       "    </tr>\n",
       "    <tr>\n",
       "      <th>max</th>\n",
       "      <td>30.000000</td>\n",
       "    </tr>\n",
       "  </tbody>\n",
       "</table>\n",
       "</div>"
      ],
      "text/plain": [
       "             Age\n",
       "count   3.000000\n",
       "mean   23.333333\n",
       "std     6.110101\n",
       "min    18.000000\n",
       "25%    20.000000\n",
       "50%    22.000000\n",
       "75%    26.000000\n",
       "max    30.000000"
      ]
     },
     "execution_count": 30,
     "metadata": {},
     "output_type": "execute_result"
    }
   ],
   "source": [
    "#یک کتابخانه ایجاد کنیم کلا\n",
    "df = pd.DataFrame(\n",
    "    {\n",
    "        \"Name\" : [\"Hamid\",\"ALi\",\"Marzie\"],\n",
    "        \"Age\"  : [  22,    30,     18   ],\n",
    "        \"Sex\"  : [\"male\",\"male\",\"female\"]\n",
    "    }\n",
    ")\n",
    "(df.describe(include='number'))#for numberical data"
   ]
  },
  {
   "cell_type": "code",
   "execution_count": 31,
   "id": "d6c44270-2918-4fab-91ac-1d5ff555d027",
   "metadata": {},
   "outputs": [],
   "source": [
    "#how to save dataframe:\n",
    "#df.to_csv(\"mydf.csv\")\n",
    "#df.to_csv(\"mydf.csv\",index=False) \n",
    "#index=False: It can be saved without an index."
   ]
  },
  {
   "cell_type": "code",
   "execution_count": 32,
   "id": "f4e7d4f0-5fcd-410c-bed3-eb89d557664c",
   "metadata": {},
   "outputs": [
    {
     "data": {
      "text/html": [
       "<div>\n",
       "<style scoped>\n",
       "    .dataframe tbody tr th:only-of-type {\n",
       "        vertical-align: middle;\n",
       "    }\n",
       "\n",
       "    .dataframe tbody tr th {\n",
       "        vertical-align: top;\n",
       "    }\n",
       "\n",
       "    .dataframe thead th {\n",
       "        text-align: right;\n",
       "    }\n",
       "</style>\n",
       "<table border=\"1\" class=\"dataframe\">\n",
       "  <thead>\n",
       "    <tr style=\"text-align: right;\">\n",
       "      <th></th>\n",
       "      <th>Name</th>\n",
       "      <th>Age</th>\n",
       "      <th>Sex</th>\n",
       "    </tr>\n",
       "  </thead>\n",
       "  <tbody>\n",
       "    <tr>\n",
       "      <th>count</th>\n",
       "      <td>3</td>\n",
       "      <td>3.000000</td>\n",
       "      <td>3</td>\n",
       "    </tr>\n",
       "    <tr>\n",
       "      <th>unique</th>\n",
       "      <td>3</td>\n",
       "      <td>NaN</td>\n",
       "      <td>2</td>\n",
       "    </tr>\n",
       "    <tr>\n",
       "      <th>top</th>\n",
       "      <td>Hamid</td>\n",
       "      <td>NaN</td>\n",
       "      <td>male</td>\n",
       "    </tr>\n",
       "    <tr>\n",
       "      <th>freq</th>\n",
       "      <td>1</td>\n",
       "      <td>NaN</td>\n",
       "      <td>2</td>\n",
       "    </tr>\n",
       "    <tr>\n",
       "      <th>mean</th>\n",
       "      <td>NaN</td>\n",
       "      <td>23.333333</td>\n",
       "      <td>NaN</td>\n",
       "    </tr>\n",
       "    <tr>\n",
       "      <th>std</th>\n",
       "      <td>NaN</td>\n",
       "      <td>6.110101</td>\n",
       "      <td>NaN</td>\n",
       "    </tr>\n",
       "    <tr>\n",
       "      <th>min</th>\n",
       "      <td>NaN</td>\n",
       "      <td>18.000000</td>\n",
       "      <td>NaN</td>\n",
       "    </tr>\n",
       "    <tr>\n",
       "      <th>25%</th>\n",
       "      <td>NaN</td>\n",
       "      <td>20.000000</td>\n",
       "      <td>NaN</td>\n",
       "    </tr>\n",
       "    <tr>\n",
       "      <th>50%</th>\n",
       "      <td>NaN</td>\n",
       "      <td>22.000000</td>\n",
       "      <td>NaN</td>\n",
       "    </tr>\n",
       "    <tr>\n",
       "      <th>75%</th>\n",
       "      <td>NaN</td>\n",
       "      <td>26.000000</td>\n",
       "      <td>NaN</td>\n",
       "    </tr>\n",
       "    <tr>\n",
       "      <th>max</th>\n",
       "      <td>NaN</td>\n",
       "      <td>30.000000</td>\n",
       "      <td>NaN</td>\n",
       "    </tr>\n",
       "  </tbody>\n",
       "</table>\n",
       "</div>"
      ],
      "text/plain": [
       "         Name        Age   Sex\n",
       "count       3   3.000000     3\n",
       "unique      3        NaN     2\n",
       "top     Hamid        NaN  male\n",
       "freq        1        NaN     2\n",
       "mean      NaN  23.333333   NaN\n",
       "std       NaN   6.110101   NaN\n",
       "min       NaN  18.000000   NaN\n",
       "25%       NaN  20.000000   NaN\n",
       "50%       NaN  22.000000   NaN\n",
       "75%       NaN  26.000000   NaN\n",
       "max       NaN  30.000000   NaN"
      ]
     },
     "execution_count": 32,
     "metadata": {},
     "output_type": "execute_result"
    }
   ],
   "source": [
    "(df.describe(include='all'))#for both numberical and textual data"
   ]
  },
  {
   "cell_type": "code",
   "execution_count": 33,
   "id": "88818d3c-3c97-4269-be08-6d002605ed3f",
   "metadata": {},
   "outputs": [
    {
     "data": {
      "text/html": [
       "<div>\n",
       "<style scoped>\n",
       "    .dataframe tbody tr th:only-of-type {\n",
       "        vertical-align: middle;\n",
       "    }\n",
       "\n",
       "    .dataframe tbody tr th {\n",
       "        vertical-align: top;\n",
       "    }\n",
       "\n",
       "    .dataframe thead th {\n",
       "        text-align: right;\n",
       "    }\n",
       "</style>\n",
       "<table border=\"1\" class=\"dataframe\">\n",
       "  <thead>\n",
       "    <tr style=\"text-align: right;\">\n",
       "      <th></th>\n",
       "      <th>Age</th>\n",
       "    </tr>\n",
       "  </thead>\n",
       "  <tbody>\n",
       "    <tr>\n",
       "      <th>count</th>\n",
       "      <td>3.000000</td>\n",
       "    </tr>\n",
       "    <tr>\n",
       "      <th>mean</th>\n",
       "      <td>23.333333</td>\n",
       "    </tr>\n",
       "    <tr>\n",
       "      <th>std</th>\n",
       "      <td>6.110101</td>\n",
       "    </tr>\n",
       "    <tr>\n",
       "      <th>min</th>\n",
       "      <td>18.000000</td>\n",
       "    </tr>\n",
       "    <tr>\n",
       "      <th>25%</th>\n",
       "      <td>20.000000</td>\n",
       "    </tr>\n",
       "    <tr>\n",
       "      <th>50%</th>\n",
       "      <td>22.000000</td>\n",
       "    </tr>\n",
       "    <tr>\n",
       "      <th>75%</th>\n",
       "      <td>26.000000</td>\n",
       "    </tr>\n",
       "    <tr>\n",
       "      <th>max</th>\n",
       "      <td>30.000000</td>\n",
       "    </tr>\n",
       "  </tbody>\n",
       "</table>\n",
       "</div>"
      ],
      "text/plain": [
       "             Age\n",
       "count   3.000000\n",
       "mean   23.333333\n",
       "std     6.110101\n",
       "min    18.000000\n",
       "25%    20.000000\n",
       "50%    22.000000\n",
       "75%    26.000000\n",
       "max    30.000000"
      ]
     },
     "execution_count": 33,
     "metadata": {},
     "output_type": "execute_result"
    }
   ],
   "source": [
    "df.describe() #summary description"
   ]
  },
  {
   "cell_type": "code",
   "execution_count": 34,
   "id": "df3b69d7-8e2e-4ae2-84bb-72911f3147a0",
   "metadata": {},
   "outputs": [
    {
     "data": {
      "text/plain": [
       "0     Hamid\n",
       "1       ALi\n",
       "2    Marzie\n",
       "Name: Name, dtype: object"
      ]
     },
     "execution_count": 34,
     "metadata": {},
     "output_type": "execute_result"
    }
   ],
   "source": [
    "(df[\"Name\"])"
   ]
  },
  {
   "cell_type": "code",
   "execution_count": 35,
   "id": "17b2eb0f-9fce-483f-936d-903369b40b95",
   "metadata": {},
   "outputs": [
    {
     "data": {
      "text/plain": [
       "np.int64(30)"
      ]
     },
     "execution_count": 35,
     "metadata": {},
     "output_type": "execute_result"
    }
   ],
   "source": [
    "df['Age'].max()"
   ]
  },
  {
   "cell_type": "code",
   "execution_count": 36,
   "id": "4bcd9275-1040-4ecb-a252-381b2d728171",
   "metadata": {},
   "outputs": [
    {
     "name": "stdout",
     "output_type": "stream",
     "text": [
      "0    0.024504\n",
      "1   -0.575678\n",
      "2   -0.431381\n",
      "3   -1.223369\n",
      "4   -0.358867\n",
      "5    0.670683\n",
      "6   -0.491257\n",
      "7    0.213860\n",
      "8    1.075540\n",
      "9    1.513974\n",
      "dtype: float64 \n",
      "----------\n"
     ]
    },
    {
     "data": {
      "text/plain": [
       "(0    0.024504\n",
       " 2   -0.431381\n",
       " 4   -0.358867\n",
       " 6   -0.491257\n",
       " 8    1.075540\n",
       " dtype: float64,\n",
       " 'inew')"
      ]
     },
     "execution_count": 36,
     "metadata": {},
     "output_type": "execute_result"
    }
   ],
   "source": [
    "s = pd.Series(np.random.randn(10))\n",
    "print(s,'\\n----------')\n",
    "(s[::2],'inew')"
   ]
  },
  {
   "cell_type": "code",
   "execution_count": 37,
   "id": "f9d50ab2-6d77-4384-85a2-04f7729ace42",
   "metadata": {},
   "outputs": [
    {
     "data": {
      "text/plain": [
       "count    10.000000\n",
       "mean      0.041801\n",
       "std       0.837445\n",
       "min      -1.223369\n",
       "25%      -0.476288\n",
       "50%      -0.167182\n",
       "75%       0.556478\n",
       "max       1.513974\n",
       "dtype: float64"
      ]
     },
     "execution_count": 37,
     "metadata": {},
     "output_type": "execute_result"
    }
   ],
   "source": [
    "s.describe()"
   ]
  },
  {
   "cell_type": "markdown",
   "id": "dc97e803-d253-4698-9bbc-c035a9dac3d7",
   "metadata": {},
   "source": [
    "<div style=\"direction:ltl;line-height:150%;\"><font face=\"B Nazanin\" size=3>\n",
    "<font color=#007E06 size=3>\n",
    "</font>\n",
    "یک ستون بسازیم در حالت کلی:\n",
    "<font size=4 >\n",
    " \n",
    "</font>\n",
    "</div>"
   ]
  },
  {
   "cell_type": "code",
   "execution_count": 38,
   "id": "79435a30-3ce9-4deb-812c-b8385f4cf58f",
   "metadata": {},
   "outputs": [
    {
     "data": {
      "text/plain": [
       "0    34\n",
       "1    23\n",
       "2    56\n",
       "3    34\n",
       "4    30\n",
       "5    47\n",
       "Name: integer number, dtype: int64"
      ]
     },
     "execution_count": 38,
     "metadata": {},
     "output_type": "execute_result"
    }
   ],
   "source": [
    "a = pd.Series([34,23,56,34,30,47], name = \"integer number\")\n",
    "a"
   ]
  },
  {
   "cell_type": "markdown",
   "id": "71a54d79-f514-4ff5-8600-603ec534c698",
   "metadata": {},
   "source": [
    "<div style=\"direction:ltl;line-height:150%;\"><font size=3>\n",
    "<font color=#007E06 size=3>\n",
    "</font>\n",
    "next cell create : 10 row , 5 col , naming col                                                   \n",
    "    \n",
    "pd.DataFrame((import data),columns=[..])                                                          \n",
    "np.random.randn(row,col)<font size=4 >\n",
    " \n",
    "</font>\n",
    "</div>"
   ]
  },
  {
   "cell_type": "code",
   "execution_count": 39,
   "id": "4f4f5fc1-ec54-49bb-8ffc-353ffb9ea667",
   "metadata": {},
   "outputs": [
    {
     "data": {
      "text/html": [
       "<div>\n",
       "<style scoped>\n",
       "    .dataframe tbody tr th:only-of-type {\n",
       "        vertical-align: middle;\n",
       "    }\n",
       "\n",
       "    .dataframe tbody tr th {\n",
       "        vertical-align: top;\n",
       "    }\n",
       "\n",
       "    .dataframe thead th {\n",
       "        text-align: right;\n",
       "    }\n",
       "</style>\n",
       "<table border=\"1\" class=\"dataframe\">\n",
       "  <thead>\n",
       "    <tr style=\"text-align: right;\">\n",
       "      <th></th>\n",
       "      <th>a</th>\n",
       "      <th>b</th>\n",
       "      <th>c</th>\n",
       "      <th>d</th>\n",
       "      <th>e</th>\n",
       "    </tr>\n",
       "  </thead>\n",
       "  <tbody>\n",
       "    <tr>\n",
       "      <th>0</th>\n",
       "      <td>0.070573</td>\n",
       "      <td>-0.647584</td>\n",
       "      <td>0.376528</td>\n",
       "      <td>-1.227082</td>\n",
       "      <td>-1.466285</td>\n",
       "    </tr>\n",
       "    <tr>\n",
       "      <th>1</th>\n",
       "      <td>-0.116598</td>\n",
       "      <td>0.438351</td>\n",
       "      <td>0.000461</td>\n",
       "      <td>-0.140823</td>\n",
       "      <td>-1.581332</td>\n",
       "    </tr>\n",
       "    <tr>\n",
       "      <th>2</th>\n",
       "      <td>-0.222414</td>\n",
       "      <td>-0.664235</td>\n",
       "      <td>-0.712112</td>\n",
       "      <td>1.134879</td>\n",
       "      <td>0.771900</td>\n",
       "    </tr>\n",
       "    <tr>\n",
       "      <th>3</th>\n",
       "      <td>0.450481</td>\n",
       "      <td>-1.459622</td>\n",
       "      <td>-0.953541</td>\n",
       "      <td>0.801474</td>\n",
       "      <td>-0.372754</td>\n",
       "    </tr>\n",
       "    <tr>\n",
       "      <th>4</th>\n",
       "      <td>-1.085471</td>\n",
       "      <td>-1.764386</td>\n",
       "      <td>-0.029302</td>\n",
       "      <td>1.820168</td>\n",
       "      <td>-1.633504</td>\n",
       "    </tr>\n",
       "    <tr>\n",
       "      <th>5</th>\n",
       "      <td>1.125330</td>\n",
       "      <td>0.434514</td>\n",
       "      <td>1.986977</td>\n",
       "      <td>0.027751</td>\n",
       "      <td>-0.370689</td>\n",
       "    </tr>\n",
       "    <tr>\n",
       "      <th>6</th>\n",
       "      <td>-0.172276</td>\n",
       "      <td>-0.034073</td>\n",
       "      <td>1.167105</td>\n",
       "      <td>-1.162426</td>\n",
       "      <td>-2.547957</td>\n",
       "    </tr>\n",
       "    <tr>\n",
       "      <th>7</th>\n",
       "      <td>1.840024</td>\n",
       "      <td>-0.478462</td>\n",
       "      <td>0.421504</td>\n",
       "      <td>0.237245</td>\n",
       "      <td>-0.299610</td>\n",
       "    </tr>\n",
       "    <tr>\n",
       "      <th>8</th>\n",
       "      <td>-1.728488</td>\n",
       "      <td>0.207546</td>\n",
       "      <td>-1.133019</td>\n",
       "      <td>1.568037</td>\n",
       "      <td>-1.569851</td>\n",
       "    </tr>\n",
       "    <tr>\n",
       "      <th>9</th>\n",
       "      <td>0.128129</td>\n",
       "      <td>1.454365</td>\n",
       "      <td>0.191075</td>\n",
       "      <td>0.070401</td>\n",
       "      <td>1.152926</td>\n",
       "    </tr>\n",
       "  </tbody>\n",
       "</table>\n",
       "</div>"
      ],
      "text/plain": [
       "          a         b         c         d         e\n",
       "0  0.070573 -0.647584  0.376528 -1.227082 -1.466285\n",
       "1 -0.116598  0.438351  0.000461 -0.140823 -1.581332\n",
       "2 -0.222414 -0.664235 -0.712112  1.134879  0.771900\n",
       "3  0.450481 -1.459622 -0.953541  0.801474 -0.372754\n",
       "4 -1.085471 -1.764386 -0.029302  1.820168 -1.633504\n",
       "5  1.125330  0.434514  1.986977  0.027751 -0.370689\n",
       "6 -0.172276 -0.034073  1.167105 -1.162426 -2.547957\n",
       "7  1.840024 -0.478462  0.421504  0.237245 -0.299610\n",
       "8 -1.728488  0.207546 -1.133019  1.568037 -1.569851\n",
       "9  0.128129  1.454365  0.191075  0.070401  1.152926"
      ]
     },
     "execution_count": 39,
     "metadata": {},
     "output_type": "execute_result"
    }
   ],
   "source": [
    "d = pd.DataFrame(np.random.randn(10,5),columns=['a','b','c','d','e'])\n",
    "d"
   ]
  },
  {
   "cell_type": "code",
   "execution_count": 40,
   "id": "adc5ffc4-60db-400e-b22a-a2c84506c807",
   "metadata": {},
   "outputs": [
    {
     "data": {
      "text/plain": [
       "0    e\n",
       "1    e\n",
       "2    c\n",
       "3    b\n",
       "4    b\n",
       "5    e\n",
       "6    e\n",
       "7    b\n",
       "8    a\n",
       "9    d\n",
       "dtype: object"
      ]
     },
     "execution_count": 40,
     "metadata": {},
     "output_type": "execute_result"
    }
   ],
   "source": [
    "d.idxmin(axis=1) # اندیس بزرگترین عدد رو در هر سطر بدست بیار"
   ]
  },
  {
   "cell_type": "code",
   "execution_count": 41,
   "id": "c68e7a34-c786-4e2a-a4ce-a1009a14ebfb",
   "metadata": {},
   "outputs": [
    {
     "data": {
      "text/plain": [
       "a    8\n",
       "b    4\n",
       "c    8\n",
       "d    0\n",
       "e    6\n",
       "dtype: int64"
      ]
     },
     "execution_count": 41,
     "metadata": {},
     "output_type": "execute_result"
    }
   ],
   "source": [
    "d.idxmin(axis=0)#اندیس  کمترین عدد رو در هر ستون بدست بیار "
   ]
  },
  {
   "cell_type": "code",
   "execution_count": 42,
   "id": "0314cafe-57b2-4e49-8699-aadce914a9c3",
   "metadata": {},
   "outputs": [
    {
     "data": {
      "text/html": [
       "<div>\n",
       "<style scoped>\n",
       "    .dataframe tbody tr th:only-of-type {\n",
       "        vertical-align: middle;\n",
       "    }\n",
       "\n",
       "    .dataframe tbody tr th {\n",
       "        vertical-align: top;\n",
       "    }\n",
       "\n",
       "    .dataframe thead th {\n",
       "        text-align: right;\n",
       "    }\n",
       "</style>\n",
       "<table border=\"1\" class=\"dataframe\">\n",
       "  <thead>\n",
       "    <tr style=\"text-align: right;\">\n",
       "      <th></th>\n",
       "      <th>a</th>\n",
       "      <th>b</th>\n",
       "      <th>c</th>\n",
       "      <th>d</th>\n",
       "      <th>e</th>\n",
       "    </tr>\n",
       "  </thead>\n",
       "  <tbody>\n",
       "    <tr>\n",
       "      <th>count</th>\n",
       "      <td>10.000000</td>\n",
       "      <td>10.000000</td>\n",
       "      <td>10.000000</td>\n",
       "      <td>10.000000</td>\n",
       "      <td>10.000000</td>\n",
       "    </tr>\n",
       "    <tr>\n",
       "      <th>mean</th>\n",
       "      <td>0.028929</td>\n",
       "      <td>-0.251359</td>\n",
       "      <td>0.131568</td>\n",
       "      <td>0.312962</td>\n",
       "      <td>-0.791716</td>\n",
       "    </tr>\n",
       "    <tr>\n",
       "      <th>std</th>\n",
       "      <td>1.007013</td>\n",
       "      <td>0.956940</td>\n",
       "      <td>0.954172</td>\n",
       "      <td>1.036094</td>\n",
       "      <td>1.168974</td>\n",
       "    </tr>\n",
       "    <tr>\n",
       "      <th>min</th>\n",
       "      <td>-1.728488</td>\n",
       "      <td>-1.764386</td>\n",
       "      <td>-1.133019</td>\n",
       "      <td>-1.227082</td>\n",
       "      <td>-2.547957</td>\n",
       "    </tr>\n",
       "    <tr>\n",
       "      <th>25%</th>\n",
       "      <td>-0.209880</td>\n",
       "      <td>-0.660072</td>\n",
       "      <td>-0.541409</td>\n",
       "      <td>-0.098679</td>\n",
       "      <td>-1.578462</td>\n",
       "    </tr>\n",
       "    <tr>\n",
       "      <th>50%</th>\n",
       "      <td>-0.023012</td>\n",
       "      <td>-0.256268</td>\n",
       "      <td>0.095768</td>\n",
       "      <td>0.153823</td>\n",
       "      <td>-0.919520</td>\n",
       "    </tr>\n",
       "    <tr>\n",
       "      <th>75%</th>\n",
       "      <td>0.369893</td>\n",
       "      <td>0.377772</td>\n",
       "      <td>0.410260</td>\n",
       "      <td>1.051528</td>\n",
       "      <td>-0.317380</td>\n",
       "    </tr>\n",
       "    <tr>\n",
       "      <th>max</th>\n",
       "      <td>1.840024</td>\n",
       "      <td>1.454365</td>\n",
       "      <td>1.986977</td>\n",
       "      <td>1.820168</td>\n",
       "      <td>1.152926</td>\n",
       "    </tr>\n",
       "  </tbody>\n",
       "</table>\n",
       "</div>"
      ],
      "text/plain": [
       "               a          b          c          d          e\n",
       "count  10.000000  10.000000  10.000000  10.000000  10.000000\n",
       "mean    0.028929  -0.251359   0.131568   0.312962  -0.791716\n",
       "std     1.007013   0.956940   0.954172   1.036094   1.168974\n",
       "min    -1.728488  -1.764386  -1.133019  -1.227082  -2.547957\n",
       "25%    -0.209880  -0.660072  -0.541409  -0.098679  -1.578462\n",
       "50%    -0.023012  -0.256268   0.095768   0.153823  -0.919520\n",
       "75%     0.369893   0.377772   0.410260   1.051528  -0.317380\n",
       "max     1.840024   1.454365   1.986977   1.820168   1.152926"
      ]
     },
     "execution_count": 42,
     "metadata": {},
     "output_type": "execute_result"
    }
   ],
   "source": [
    "d.describe()"
   ]
  },
  {
   "cell_type": "markdown",
   "id": "739ce415-c466-4edf-a0a6-f57764fd9092",
   "metadata": {},
   "source": [
    "create col that have 'nan' value: "
   ]
  },
  {
   "cell_type": "code",
   "execution_count": 43,
   "id": "d04ebb28-fed8-443d-a366-f54b71b31902",
   "metadata": {},
   "outputs": [
    {
     "data": {
      "text/plain": [
       "0       a\n",
       "1     NaN\n",
       "2       a\n",
       "3       a\n",
       "4      30\n",
       "5       a\n",
       "6       b\n",
       "7       b\n",
       "8     NaN\n",
       "9       d\n",
       "10     34\n",
       "dtype: object"
      ]
     },
     "execution_count": 43,
     "metadata": {},
     "output_type": "execute_result"
    }
   ],
   "source": [
    "pd.Series(['a',np.nan,'a','a',30,'a','b','b',np.nan,'d',34])"
   ]
  },
  {
   "cell_type": "code",
   "execution_count": 44,
   "id": "26644d36-330e-4118-8f80-49033db04da0",
   "metadata": {},
   "outputs": [
    {
     "data": {
      "text/plain": [
       "0    0.766843\n",
       "1   -0.158954\n",
       "2   -0.487754\n",
       "3   -1.746527\n",
       "4   -0.993250\n",
       "dtype: float64"
      ]
     },
     "execution_count": 44,
     "metadata": {},
     "output_type": "execute_result"
    }
   ],
   "source": [
    "a = pd.Series(np.random.randn(5))\n",
    "a"
   ]
  },
  {
   "cell_type": "markdown",
   "id": "fac5e090-9a90-4278-954a-ab864232672a",
   "metadata": {},
   "source": [
    "<div> \n",
    "    <font size = 3 face = 'Sans-Serif' >\n",
    "        argmin and argmax in numpy = idxmin and idxmax in pandas !\n",
    "    </font>\n",
    "</div>\n",
    "        "
   ]
  },
  {
   "cell_type": "code",
   "execution_count": 45,
   "id": "3ba02a75-b43e-41c7-a249-f6ba68400742",
   "metadata": {},
   "outputs": [
    {
     "data": {
      "text/plain": [
       "0"
      ]
     },
     "execution_count": 45,
     "metadata": {},
     "output_type": "execute_result"
    }
   ],
   "source": [
    "a.idxmax() #اندیس بزرگترین را برمیگرداند "
   ]
  },
  {
   "cell_type": "code",
   "execution_count": 46,
   "id": "57459abe-871f-46a6-8fd5-8bdcadad63fa",
   "metadata": {},
   "outputs": [
    {
     "data": {
      "text/plain": [
       "3"
      ]
     },
     "execution_count": 46,
     "metadata": {},
     "output_type": "execute_result"
    }
   ],
   "source": [
    "a.idxmin() #اندیس کوچیک ترین را برمیگرداند "
   ]
  }
 ],
 "metadata": {
  "kernelspec": {
   "display_name": "Python 3 (ipykernel)",
   "language": "python",
   "name": "python3"
  },
  "language_info": {
   "codemirror_mode": {
    "name": "ipython",
    "version": 3
   },
   "file_extension": ".py",
   "mimetype": "text/x-python",
   "name": "python",
   "nbconvert_exporter": "python",
   "pygments_lexer": "ipython3",
   "version": "3.13.5"
  }
 },
 "nbformat": 4,
 "nbformat_minor": 5
}

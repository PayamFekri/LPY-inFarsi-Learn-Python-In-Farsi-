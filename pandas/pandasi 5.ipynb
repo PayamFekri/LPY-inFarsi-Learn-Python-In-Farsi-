{
 "cells": [
  {
   "cell_type": "markdown",
   "id": "e535efa6-285f-4f6c-91b8-7b85cdb09171",
   "metadata": {},
   "source": [
    "<div style=\"direction:ltl;line-height:100%;\"><font face=\"B Nazanin\" size=4>\n",
    "<font color=#007E06 size=3>\n",
    "    <h1>Group by</h1>\n",
    "</font>\n",
    "\n",
    "<font size=4 >\n",
    "    \n",
    " بر حسب یک از ستون ها می توانیم گروه تشکیل دهیم\n",
    "\n",
    "         \n",
    "split = تقسیم مجموعه داده به یکسری گروه\n",
    "\n",
    "  \n",
    "applying function = انجام کار های اماری \n",
    " \n",
    " </font>\n",
    " </div>"
   ]
  },
  {
   "cell_type": "code",
   "execution_count": 41,
   "id": "61a310bc-fae0-43b8-b0ff-b4517e6eb066",
   "metadata": {},
   "outputs": [],
   "source": [
    "import numpy as np\n",
    "import pandas as pd"
   ]
  },
  {
   "cell_type": "code",
   "execution_count": 42,
   "id": "4c073477-5f13-447f-b7c0-99d9a0c1ffcb",
   "metadata": {},
   "outputs": [
    {
     "data": {
      "text/html": [
       "<div>\n",
       "<style scoped>\n",
       "    .dataframe tbody tr th:only-of-type {\n",
       "        vertical-align: middle;\n",
       "    }\n",
       "\n",
       "    .dataframe tbody tr th {\n",
       "        vertical-align: top;\n",
       "    }\n",
       "\n",
       "    .dataframe thead th {\n",
       "        text-align: right;\n",
       "    }\n",
       "</style>\n",
       "<table border=\"1\" class=\"dataframe\">\n",
       "  <thead>\n",
       "    <tr style=\"text-align: right;\">\n",
       "      <th></th>\n",
       "      <th>team</th>\n",
       "      <th>rank</th>\n",
       "      <th>year</th>\n",
       "      <th>points</th>\n",
       "    </tr>\n",
       "  </thead>\n",
       "  <tbody>\n",
       "    <tr>\n",
       "      <th>0</th>\n",
       "      <td>a</td>\n",
       "      <td>1.0</td>\n",
       "      <td>2014</td>\n",
       "      <td>897.0</td>\n",
       "    </tr>\n",
       "    <tr>\n",
       "      <th>1</th>\n",
       "      <td>b</td>\n",
       "      <td>2.0</td>\n",
       "      <td>2015</td>\n",
       "      <td>789.0</td>\n",
       "    </tr>\n",
       "    <tr>\n",
       "      <th>2</th>\n",
       "      <td>c</td>\n",
       "      <td>2.0</td>\n",
       "      <td>2014</td>\n",
       "      <td>650.0</td>\n",
       "    </tr>\n",
       "    <tr>\n",
       "      <th>3</th>\n",
       "      <td>d</td>\n",
       "      <td>3.0</td>\n",
       "      <td>2020</td>\n",
       "      <td>770.0</td>\n",
       "    </tr>\n",
       "    <tr>\n",
       "      <th>4</th>\n",
       "      <td>e</td>\n",
       "      <td>NaN</td>\n",
       "      <td>2019</td>\n",
       "      <td>900.0</td>\n",
       "    </tr>\n",
       "    <tr>\n",
       "      <th>5</th>\n",
       "      <td>f</td>\n",
       "      <td>4.0</td>\n",
       "      <td>2018</td>\n",
       "      <td>820.0</td>\n",
       "    </tr>\n",
       "    <tr>\n",
       "      <th>6</th>\n",
       "      <td>g</td>\n",
       "      <td>2.0</td>\n",
       "      <td>2012</td>\n",
       "      <td>NaN</td>\n",
       "    </tr>\n",
       "    <tr>\n",
       "      <th>7</th>\n",
       "      <td>h</td>\n",
       "      <td>3.0</td>\n",
       "      <td>2027</td>\n",
       "      <td>699.0</td>\n",
       "    </tr>\n",
       "  </tbody>\n",
       "</table>\n",
       "</div>"
      ],
      "text/plain": [
       "  team  rank  year  points\n",
       "0    a   1.0  2014   897.0\n",
       "1    b   2.0  2015   789.0\n",
       "2    c   2.0  2014   650.0\n",
       "3    d   3.0  2020   770.0\n",
       "4    e   NaN  2019   900.0\n",
       "5    f   4.0  2018   820.0\n",
       "6    g   2.0  2012     NaN\n",
       "7    h   3.0  2027   699.0"
      ]
     },
     "execution_count": 42,
     "metadata": {},
     "output_type": "execute_result"
    }
   ],
   "source": [
    "data ={\n",
    "    'team' :['a','b','c','d','e','f','g','h'],\n",
    "    'rank' :[ 1,  2,  2,  3,  np.nan,  4,  2,  3],\n",
    "    'year' :[2014,2015,2014,2020,2019,2018,2012,2027],\n",
    "    'points':[897,789,650,770,900,820,np.nan,699]\n",
    "}\n",
    "df = pd.DataFrame(data)\n",
    "df"
   ]
  },
  {
   "cell_type": "code",
   "execution_count": 43,
   "id": "716713e8-dd1b-4ef0-9929-02fb413b1024",
   "metadata": {},
   "outputs": [
    {
     "data": {
      "text/plain": [
       "{'a': [0], 'b': [1], 'c': [2], 'd': [3], 'e': [4], 'f': [5], 'g': [6], 'h': [7]}"
      ]
     },
     "execution_count": 43,
     "metadata": {},
     "output_type": "execute_result"
    }
   ],
   "source": [
    "df.groupby(\"team\").groups"
   ]
  },
  {
   "cell_type": "code",
   "execution_count": 44,
   "id": "4f595fe2-819c-4832-a21b-377d13cc836e",
   "metadata": {},
   "outputs": [
    {
     "data": {
      "text/plain": [
       "{(2012, 'g'): [6], (2014, 'a'): [0], (2014, 'c'): [2], (2015, 'b'): [1], (2018, 'f'): [5], (2019, 'e'): [4], (2020, 'd'): [3], (2027, 'h'): [7]}"
      ]
     },
     "execution_count": 44,
     "metadata": {},
     "output_type": "execute_result"
    }
   ],
   "source": [
    "df.groupby([\"year\",\"team\"]).groups"
   ]
  },
  {
   "cell_type": "code",
   "execution_count": 45,
   "id": "85543402-3197-436d-a112-f1407b50b805",
   "metadata": {},
   "outputs": [
    {
     "data": {
      "text/plain": [
       "{2012: [6], 2014: [0, 2], 2015: [1], 2018: [5], 2019: [4], 2020: [3], 2027: [7]}"
      ]
     },
     "execution_count": 45,
     "metadata": {},
     "output_type": "execute_result"
    }
   ],
   "source": [
    "grouped = df.groupby('year')\n",
    "grouped.groups"
   ]
  },
  {
   "cell_type": "code",
   "execution_count": 46,
   "id": "c6d4e41c-a9e2-490e-b084-e797b283b762",
   "metadata": {},
   "outputs": [
    {
     "name": "stdout",
     "output_type": "stream",
     "text": [
      "2012   team  rank  year  points\n",
      "6    g   2.0  2012     NaN\n",
      "2014   team  rank  year  points\n",
      "0    a   1.0  2014   897.0\n",
      "2    c   2.0  2014   650.0\n",
      "2015   team  rank  year  points\n",
      "1    b   2.0  2015   789.0\n",
      "2018   team  rank  year  points\n",
      "5    f   4.0  2018   820.0\n",
      "2019   team  rank  year  points\n",
      "4    e   NaN  2019   900.0\n",
      "2020   team  rank  year  points\n",
      "3    d   3.0  2020   770.0\n",
      "2027   team  rank  year  points\n",
      "7    h   3.0  2027   699.0\n"
     ]
    }
   ],
   "source": [
    "def grouped_function():\n",
    "    for name , group in grouped:\n",
    "        print((name),(group))\n",
    "grouped_function()"
   ]
  },
  {
   "cell_type": "code",
   "execution_count": 47,
   "id": "72f32057-c84a-421c-8402-4c72097d75ce",
   "metadata": {},
   "outputs": [
    {
     "data": {
      "text/html": [
       "<div>\n",
       "<style scoped>\n",
       "    .dataframe tbody tr th:only-of-type {\n",
       "        vertical-align: middle;\n",
       "    }\n",
       "\n",
       "    .dataframe tbody tr th {\n",
       "        vertical-align: top;\n",
       "    }\n",
       "\n",
       "    .dataframe thead th {\n",
       "        text-align: right;\n",
       "    }\n",
       "</style>\n",
       "<table border=\"1\" class=\"dataframe\">\n",
       "  <thead>\n",
       "    <tr style=\"text-align: right;\">\n",
       "      <th></th>\n",
       "      <th>team</th>\n",
       "      <th>rank</th>\n",
       "      <th>year</th>\n",
       "      <th>points</th>\n",
       "    </tr>\n",
       "  </thead>\n",
       "  <tbody>\n",
       "    <tr>\n",
       "      <th>0</th>\n",
       "      <td>a</td>\n",
       "      <td>1.0</td>\n",
       "      <td>2014</td>\n",
       "      <td>897.0</td>\n",
       "    </tr>\n",
       "    <tr>\n",
       "      <th>2</th>\n",
       "      <td>c</td>\n",
       "      <td>2.0</td>\n",
       "      <td>2014</td>\n",
       "      <td>650.0</td>\n",
       "    </tr>\n",
       "  </tbody>\n",
       "</table>\n",
       "</div>"
      ],
      "text/plain": [
       "  team  rank  year  points\n",
       "0    a   1.0  2014   897.0\n",
       "2    c   2.0  2014   650.0"
      ]
     },
     "execution_count": 47,
     "metadata": {},
     "output_type": "execute_result"
    }
   ],
   "source": [
    "grouped.get_group(2014)"
   ]
  },
  {
   "cell_type": "code",
   "execution_count": 48,
   "id": "aa27c29e-0a96-4ae3-9da2-07d8bdbd03d2",
   "metadata": {},
   "outputs": [
    {
     "data": {
      "text/plain": [
       "'c'"
      ]
     },
     "execution_count": 48,
     "metadata": {},
     "output_type": "execute_result"
    }
   ],
   "source": [
    "grouped.get_group(2014)['team'][2]"
   ]
  },
  {
   "cell_type": "code",
   "execution_count": 49,
   "id": "8c8366bf-f6de-43a2-b450-ed0e72f72fff",
   "metadata": {},
   "outputs": [
    {
     "data": {
      "text/plain": [
       "year\n",
       "2012      NaN\n",
       "2014    773.5\n",
       "2015    789.0\n",
       "2018    820.0\n",
       "2019    900.0\n",
       "2020    770.0\n",
       "2027    699.0\n",
       "Name: points, dtype: float64"
      ]
     },
     "execution_count": 49,
     "metadata": {},
     "output_type": "execute_result"
    }
   ],
   "source": [
    "grouped['points'].agg('mean')"
   ]
  },
  {
   "cell_type": "code",
   "execution_count": 50,
   "id": "9ab61f66-522f-47d1-ba27-d9ca46a6c0dd",
   "metadata": {},
   "outputs": [
    {
     "data": {
      "text/plain": [
       "year\n",
       "2012    1\n",
       "2014    2\n",
       "2015    1\n",
       "2018    1\n",
       "2019    1\n",
       "2020    1\n",
       "2027    1\n",
       "Name: points, dtype: int64"
      ]
     },
     "execution_count": 50,
     "metadata": {},
     "output_type": "execute_result"
    }
   ],
   "source": [
    "grouped['points'].agg('size')"
   ]
  },
  {
   "cell_type": "markdown",
   "id": "31d90b29-deac-4874-9840-5cc175b83ab4",
   "metadata": {},
   "source": [
    "<div style=\"direction:ltl;line-height:200%;\">\n",
    "    <font color=#A42E2F size=4>\n",
    "        size : have missing & count : without missing\"\n",
    "    </font>\n",
    "</div>\n",
    "\n",
    "<div size=3>if (don't have missing): n(size) = n(count)</div>"
   ]
  },
  {
   "cell_type": "code",
   "execution_count": 51,
   "id": "62c5f3a7-f79d-45ff-87c8-f944abf474c3",
   "metadata": {},
   "outputs": [
    {
     "data": {
      "text/plain": [
       "year\n",
       "2012    0\n",
       "2014    2\n",
       "2015    1\n",
       "2018    1\n",
       "2019    1\n",
       "2020    1\n",
       "2027    1\n",
       "Name: points, dtype: int64"
      ]
     },
     "execution_count": 51,
     "metadata": {},
     "output_type": "execute_result"
    }
   ],
   "source": [
    "grouped['points'].count()"
   ]
  },
  {
   "cell_type": "code",
   "execution_count": 52,
   "id": "c955af27-3ed2-4f7a-965e-02c242c186e6",
   "metadata": {},
   "outputs": [
    {
     "data": {
      "text/html": [
       "<div>\n",
       "<style scoped>\n",
       "    .dataframe tbody tr th:only-of-type {\n",
       "        vertical-align: middle;\n",
       "    }\n",
       "\n",
       "    .dataframe tbody tr th {\n",
       "        vertical-align: top;\n",
       "    }\n",
       "\n",
       "    .dataframe thead th {\n",
       "        text-align: right;\n",
       "    }\n",
       "</style>\n",
       "<table border=\"1\" class=\"dataframe\">\n",
       "  <thead>\n",
       "    <tr style=\"text-align: right;\">\n",
       "      <th></th>\n",
       "      <th>sum</th>\n",
       "      <th>mean</th>\n",
       "      <th>std</th>\n",
       "    </tr>\n",
       "    <tr>\n",
       "      <th>year</th>\n",
       "      <th></th>\n",
       "      <th></th>\n",
       "      <th></th>\n",
       "    </tr>\n",
       "  </thead>\n",
       "  <tbody>\n",
       "    <tr>\n",
       "      <th>2012</th>\n",
       "      <td>0.0</td>\n",
       "      <td>NaN</td>\n",
       "      <td>NaN</td>\n",
       "    </tr>\n",
       "    <tr>\n",
       "      <th>2014</th>\n",
       "      <td>1547.0</td>\n",
       "      <td>773.5</td>\n",
       "      <td>174.655375</td>\n",
       "    </tr>\n",
       "    <tr>\n",
       "      <th>2015</th>\n",
       "      <td>789.0</td>\n",
       "      <td>789.0</td>\n",
       "      <td>NaN</td>\n",
       "    </tr>\n",
       "    <tr>\n",
       "      <th>2018</th>\n",
       "      <td>820.0</td>\n",
       "      <td>820.0</td>\n",
       "      <td>NaN</td>\n",
       "    </tr>\n",
       "    <tr>\n",
       "      <th>2019</th>\n",
       "      <td>900.0</td>\n",
       "      <td>900.0</td>\n",
       "      <td>NaN</td>\n",
       "    </tr>\n",
       "    <tr>\n",
       "      <th>2020</th>\n",
       "      <td>770.0</td>\n",
       "      <td>770.0</td>\n",
       "      <td>NaN</td>\n",
       "    </tr>\n",
       "    <tr>\n",
       "      <th>2027</th>\n",
       "      <td>699.0</td>\n",
       "      <td>699.0</td>\n",
       "      <td>NaN</td>\n",
       "    </tr>\n",
       "  </tbody>\n",
       "</table>\n",
       "</div>"
      ],
      "text/plain": [
       "         sum   mean         std\n",
       "year                           \n",
       "2012     0.0    NaN         NaN\n",
       "2014  1547.0  773.5  174.655375\n",
       "2015   789.0  789.0         NaN\n",
       "2018   820.0  820.0         NaN\n",
       "2019   900.0  900.0         NaN\n",
       "2020   770.0  770.0         NaN\n",
       "2027   699.0  699.0         NaN"
      ]
     },
     "execution_count": 52,
     "metadata": {},
     "output_type": "execute_result"
    }
   ],
   "source": [
    "grouped['points'].agg(['sum','mean','std'])"
   ]
  },
  {
   "cell_type": "code",
   "execution_count": 53,
   "id": "914d614d-bc89-4275-b85f-ef1e8a54c91d",
   "metadata": {},
   "outputs": [
    {
     "data": {
      "text/html": [
       "<div>\n",
       "<style scoped>\n",
       "    .dataframe tbody tr th:only-of-type {\n",
       "        vertical-align: middle;\n",
       "    }\n",
       "\n",
       "    .dataframe tbody tr th {\n",
       "        vertical-align: top;\n",
       "    }\n",
       "\n",
       "    .dataframe thead th {\n",
       "        text-align: right;\n",
       "    }\n",
       "</style>\n",
       "<table border=\"1\" class=\"dataframe\">\n",
       "  <thead>\n",
       "    <tr style=\"text-align: right;\">\n",
       "      <th></th>\n",
       "      <th>team</th>\n",
       "      <th>rank</th>\n",
       "      <th>points</th>\n",
       "    </tr>\n",
       "  </thead>\n",
       "  <tbody>\n",
       "    <tr>\n",
       "      <th>0</th>\n",
       "      <td>aa</td>\n",
       "      <td>2.0</td>\n",
       "      <td>1794.0</td>\n",
       "    </tr>\n",
       "    <tr>\n",
       "      <th>1</th>\n",
       "      <td>bb</td>\n",
       "      <td>4.0</td>\n",
       "      <td>1578.0</td>\n",
       "    </tr>\n",
       "    <tr>\n",
       "      <th>2</th>\n",
       "      <td>cc</td>\n",
       "      <td>4.0</td>\n",
       "      <td>1300.0</td>\n",
       "    </tr>\n",
       "    <tr>\n",
       "      <th>3</th>\n",
       "      <td>dd</td>\n",
       "      <td>6.0</td>\n",
       "      <td>1540.0</td>\n",
       "    </tr>\n",
       "    <tr>\n",
       "      <th>4</th>\n",
       "      <td>ee</td>\n",
       "      <td>NaN</td>\n",
       "      <td>1800.0</td>\n",
       "    </tr>\n",
       "    <tr>\n",
       "      <th>5</th>\n",
       "      <td>ff</td>\n",
       "      <td>8.0</td>\n",
       "      <td>1640.0</td>\n",
       "    </tr>\n",
       "    <tr>\n",
       "      <th>6</th>\n",
       "      <td>gg</td>\n",
       "      <td>4.0</td>\n",
       "      <td>NaN</td>\n",
       "    </tr>\n",
       "    <tr>\n",
       "      <th>7</th>\n",
       "      <td>hh</td>\n",
       "      <td>6.0</td>\n",
       "      <td>1398.0</td>\n",
       "    </tr>\n",
       "  </tbody>\n",
       "</table>\n",
       "</div>"
      ],
      "text/plain": [
       "  team  rank  points\n",
       "0   aa   2.0  1794.0\n",
       "1   bb   4.0  1578.0\n",
       "2   cc   4.0  1300.0\n",
       "3   dd   6.0  1540.0\n",
       "4   ee   NaN  1800.0\n",
       "5   ff   8.0  1640.0\n",
       "6   gg   4.0     NaN\n",
       "7   hh   6.0  1398.0"
      ]
     },
     "execution_count": 53,
     "metadata": {},
     "output_type": "execute_result"
    }
   ],
   "source": [
    "score = lambda x : x*2# مقادیر در گروپد را دو برابر کن\n",
    "grouped.transform(score)"
   ]
  },
  {
   "cell_type": "code",
   "execution_count": 54,
   "id": "8e607bbe-ad57-4770-8f3a-824eccf33ff2",
   "metadata": {},
   "outputs": [
    {
     "data": {
      "text/plain": [
       "0    1794.0\n",
       "1    1578.0\n",
       "2    1300.0\n",
       "3    1540.0\n",
       "4    1800.0\n",
       "5    1640.0\n",
       "6       NaN\n",
       "7    1398.0\n",
       "Name: points, dtype: float64"
      ]
     },
     "execution_count": 54,
     "metadata": {},
     "output_type": "execute_result"
    }
   ],
   "source": [
    "grouped['points'].transform(score)"
   ]
  },
  {
   "cell_type": "code",
   "execution_count": 55,
   "id": "c507026b-afff-47c3-9a18-2703c5b7716c",
   "metadata": {},
   "outputs": [
    {
     "data": {
      "text/html": [
       "<div>\n",
       "<style scoped>\n",
       "    .dataframe tbody tr th:only-of-type {\n",
       "        vertical-align: middle;\n",
       "    }\n",
       "\n",
       "    .dataframe tbody tr th {\n",
       "        vertical-align: top;\n",
       "    }\n",
       "\n",
       "    .dataframe thead th {\n",
       "        text-align: right;\n",
       "    }\n",
       "</style>\n",
       "<table border=\"1\" class=\"dataframe\">\n",
       "  <thead>\n",
       "    <tr style=\"text-align: right;\">\n",
       "      <th></th>\n",
       "      <th>team</th>\n",
       "      <th>rank</th>\n",
       "      <th>year</th>\n",
       "      <th>points</th>\n",
       "    </tr>\n",
       "  </thead>\n",
       "  <tbody>\n",
       "    <tr>\n",
       "      <th>0</th>\n",
       "      <td>a</td>\n",
       "      <td>1.0</td>\n",
       "      <td>2014</td>\n",
       "      <td>897.0</td>\n",
       "    </tr>\n",
       "    <tr>\n",
       "      <th>2</th>\n",
       "      <td>c</td>\n",
       "      <td>2.0</td>\n",
       "      <td>2014</td>\n",
       "      <td>650.0</td>\n",
       "    </tr>\n",
       "  </tbody>\n",
       "</table>\n",
       "</div>"
      ],
      "text/plain": [
       "  team  rank  year  points\n",
       "0    a   1.0  2014   897.0\n",
       "2    c   2.0  2014   650.0"
      ]
     },
     "execution_count": 55,
     "metadata": {},
     "output_type": "execute_result"
    }
   ],
   "source": [
    "grouped.filter(lambda x : len(x)>= 2)"
   ]
  }
 ],
 "metadata": {
  "kernelspec": {
   "display_name": "Python 3 (ipykernel)",
   "language": "python",
   "name": "python3"
  },
  "language_info": {
   "codemirror_mode": {
    "name": "ipython",
    "version": 3
   },
   "file_extension": ".py",
   "mimetype": "text/x-python",
   "name": "python",
   "nbconvert_exporter": "python",
   "pygments_lexer": "ipython3",
   "version": "3.13.5"
  }
 },
 "nbformat": 4,
 "nbformat_minor": 5
}

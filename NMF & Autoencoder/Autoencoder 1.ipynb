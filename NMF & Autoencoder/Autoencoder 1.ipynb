{
 "cells": [
  {
   "cell_type": "markdown",
   "id": "5ad4df31-0bb7-4e12-a0f7-a1f438fcaec9",
   "metadata": {},
   "source": [
    "# autoencoder"
   ]
  },
  {
   "cell_type": "code",
   "execution_count": 86,
   "id": "28e5d20c-c9fe-4d9d-aa83-ce583f7017ee",
   "metadata": {},
   "outputs": [],
   "source": [
    "from tensorflow.keras.datasets import mnist\n",
    "import matplotlib.pyplot as plt\n",
    "import numpy as np\n",
    "from tensorflow.keras import layers,models"
   ]
  },
  {
   "cell_type": "code",
   "execution_count": 87,
   "id": "5cae099b-4388-459d-814f-bc8aa606507d",
   "metadata": {},
   "outputs": [],
   "source": [
    "(xtrain , ytrain ), (xtest , ytest) = mnist.load_data()"
   ]
  },
  {
   "cell_type": "code",
   "execution_count": 88,
   "id": "c89cb26c-ff9b-4766-a0f3-d23c343ab53d",
   "metadata": {},
   "outputs": [],
   "source": [
    "(xtrain , ytrain ), (xtest , ytest) = mnist.load_data()"
   ]
  },
  {
   "cell_type": "code",
   "execution_count": 89,
   "id": "5f448f3e-8d06-48dc-977a-8b3afb39a8a8",
   "metadata": {},
   "outputs": [],
   "source": [
    "assert xtrain.shape == (60000,28,28)\n",
    "assert ytrain.shape == (60000,)\n",
    "assert xtest.shape == (10000,28,28)\n",
    "assert ytest.shape == (10000,)"
   ]
  },
  {
   "cell_type": "code",
   "execution_count": 90,
   "id": "62d53844-8679-470b-909e-3036548c80a8",
   "metadata": {},
   "outputs": [
    {
     "data": {
      "text/plain": [
       "array([[  0,   0,   0,   0,   0,   0,   0,   0,   0,   0,   0,   0,   0,\n",
       "          0,   0,   0,   0,   0,   0,   0,   0,   0,   0,   0,   0,   0,\n",
       "          0,   0],\n",
       "       [  0,   0,   0,   0,   0,   0,   0,   0,   0,   0,   0,   0,   0,\n",
       "          0,   0,   0,   0,   0,   0,   0,   0,   0,   0,   0,   0,   0,\n",
       "          0,   0],\n",
       "       [  0,   0,   0,   0,   0,   0,   0,   0,   0,   0,   0,   0,   0,\n",
       "          0,   0,   0,   0,   0,   0,   0,   0,   0,   0,   0,   0,   0,\n",
       "          0,   0],\n",
       "       [  0,   0,   0,   0,   0,   0,   0,   0,   0,   0,   0,   0,   0,\n",
       "          0,   0,   0,   0,   0,   0,   0,   0,   0,   0,   0,   0,   0,\n",
       "          0,   0],\n",
       "       [  0,   0,   0,   0,   0,   0,   0,   0,   0,   0,   0,   0,   0,\n",
       "          0,   0,   0,   0,   0,   0,   0,   0,   0,   0,   0,   0,   0,\n",
       "          0,   0],\n",
       "       [  0,   0,   0,   0,   0,   0,   0,   0,   0,   0,   0,   0,   0,\n",
       "          0,   0,   0,   0,   0,   0,   0,   0,   0,   0,   0,   0,   0,\n",
       "          0,   0],\n",
       "       [  0,   0,   0,   0,   0,   0,   0,   0,   0,   0,   0,   0,   0,\n",
       "          0,   0,   0,   0,   0,   0,   0,   0,   0,   0,   0,   0,   0,\n",
       "          0,   0],\n",
       "       [  0,   0,   0,   0,   0,   0,   0,   0,   0,   0,   0,   0,  55,\n",
       "        148, 210, 253, 253, 113,  87, 148,  55,   0,   0,   0,   0,   0,\n",
       "          0,   0],\n",
       "       [  0,   0,   0,   0,   0,   0,   0,   0,   0,   0,   0,  87, 232,\n",
       "        252, 253, 189, 210, 252, 252, 253, 168,   0,   0,   0,   0,   0,\n",
       "          0,   0],\n",
       "       [  0,   0,   0,   0,   0,   0,   0,   0,   0,   4,  57, 242, 252,\n",
       "        190,  65,   5,  12, 182, 252, 253, 116,   0,   0,   0,   0,   0,\n",
       "          0,   0],\n",
       "       [  0,   0,   0,   0,   0,   0,   0,   0,   0,  96, 252, 252, 183,\n",
       "         14,   0,   0,  92, 252, 252, 225,  21,   0,   0,   0,   0,   0,\n",
       "          0,   0],\n",
       "       [  0,   0,   0,   0,   0,   0,   0,   0, 132, 253, 252, 146,  14,\n",
       "          0,   0,   0, 215, 252, 252,  79,   0,   0,   0,   0,   0,   0,\n",
       "          0,   0],\n",
       "       [  0,   0,   0,   0,   0,   0,   0, 126, 253, 247, 176,   9,   0,\n",
       "          0,   8,  78, 245, 253, 129,   0,   0,   0,   0,   0,   0,   0,\n",
       "          0,   0],\n",
       "       [  0,   0,   0,   0,   0,   0,  16, 232, 252, 176,   0,   0,   0,\n",
       "         36, 201, 252, 252, 169,  11,   0,   0,   0,   0,   0,   0,   0,\n",
       "          0,   0],\n",
       "       [  0,   0,   0,   0,   0,   0,  22, 252, 252,  30,  22, 119, 197,\n",
       "        241, 253, 252, 251,  77,   0,   0,   0,   0,   0,   0,   0,   0,\n",
       "          0,   0],\n",
       "       [  0,   0,   0,   0,   0,   0,  16, 231, 252, 253, 252, 252, 252,\n",
       "        226, 227, 252, 231,   0,   0,   0,   0,   0,   0,   0,   0,   0,\n",
       "          0,   0],\n",
       "       [  0,   0,   0,   0,   0,   0,   0,  55, 235, 253, 217, 138,  42,\n",
       "         24, 192, 252, 143,   0,   0,   0,   0,   0,   0,   0,   0,   0,\n",
       "          0,   0],\n",
       "       [  0,   0,   0,   0,   0,   0,   0,   0,   0,   0,   0,   0,   0,\n",
       "         62, 255, 253, 109,   0,   0,   0,   0,   0,   0,   0,   0,   0,\n",
       "          0,   0],\n",
       "       [  0,   0,   0,   0,   0,   0,   0,   0,   0,   0,   0,   0,   0,\n",
       "         71, 253, 252,  21,   0,   0,   0,   0,   0,   0,   0,   0,   0,\n",
       "          0,   0],\n",
       "       [  0,   0,   0,   0,   0,   0,   0,   0,   0,   0,   0,   0,   0,\n",
       "          0, 253, 252,  21,   0,   0,   0,   0,   0,   0,   0,   0,   0,\n",
       "          0,   0],\n",
       "       [  0,   0,   0,   0,   0,   0,   0,   0,   0,   0,   0,   0,   0,\n",
       "         71, 253, 252,  21,   0,   0,   0,   0,   0,   0,   0,   0,   0,\n",
       "          0,   0],\n",
       "       [  0,   0,   0,   0,   0,   0,   0,   0,   0,   0,   0,   0,   0,\n",
       "        106, 253, 252,  21,   0,   0,   0,   0,   0,   0,   0,   0,   0,\n",
       "          0,   0],\n",
       "       [  0,   0,   0,   0,   0,   0,   0,   0,   0,   0,   0,   0,   0,\n",
       "         45, 255, 253,  21,   0,   0,   0,   0,   0,   0,   0,   0,   0,\n",
       "          0,   0],\n",
       "       [  0,   0,   0,   0,   0,   0,   0,   0,   0,   0,   0,   0,   0,\n",
       "          0, 218, 252,  56,   0,   0,   0,   0,   0,   0,   0,   0,   0,\n",
       "          0,   0],\n",
       "       [  0,   0,   0,   0,   0,   0,   0,   0,   0,   0,   0,   0,   0,\n",
       "          0,  96, 252, 189,  42,   0,   0,   0,   0,   0,   0,   0,   0,\n",
       "          0,   0],\n",
       "       [  0,   0,   0,   0,   0,   0,   0,   0,   0,   0,   0,   0,   0,\n",
       "          0,  14, 184, 252, 170,  11,   0,   0,   0,   0,   0,   0,   0,\n",
       "          0,   0],\n",
       "       [  0,   0,   0,   0,   0,   0,   0,   0,   0,   0,   0,   0,   0,\n",
       "          0,   0,  14, 147, 252,  42,   0,   0,   0,   0,   0,   0,   0,\n",
       "          0,   0],\n",
       "       [  0,   0,   0,   0,   0,   0,   0,   0,   0,   0,   0,   0,   0,\n",
       "          0,   0,   0,   0,   0,   0,   0,   0,   0,   0,   0,   0,   0,\n",
       "          0,   0]], dtype=uint8)"
      ]
     },
     "execution_count": 90,
     "metadata": {},
     "output_type": "execute_result"
    }
   ],
   "source": [
    "xtrain[4]"
   ]
  },
  {
   "cell_type": "code",
   "execution_count": 91,
   "id": "5f36371a-afa5-433c-95d2-7894c7c9ba83",
   "metadata": {},
   "outputs": [
    {
     "data": {
      "text/plain": [
       "array([[0.        , 0.        , 0.        , 0.        , 0.        ,\n",
       "        0.        , 0.        , 0.        , 0.        , 0.        ,\n",
       "        0.        , 0.        , 0.        , 0.        , 0.        ,\n",
       "        0.        , 0.        , 0.        , 0.        , 0.        ,\n",
       "        0.        , 0.        , 0.        , 0.        , 0.        ,\n",
       "        0.        , 0.        , 0.        ],\n",
       "       [0.        , 0.        , 0.        , 0.        , 0.        ,\n",
       "        0.        , 0.        , 0.        , 0.        , 0.        ,\n",
       "        0.        , 0.        , 0.        , 0.        , 0.        ,\n",
       "        0.        , 0.        , 0.        , 0.        , 0.        ,\n",
       "        0.        , 0.        , 0.        , 0.        , 0.        ,\n",
       "        0.        , 0.        , 0.        ],\n",
       "       [0.        , 0.        , 0.        , 0.        , 0.        ,\n",
       "        0.        , 0.        , 0.        , 0.        , 0.        ,\n",
       "        0.        , 0.        , 0.        , 0.        , 0.        ,\n",
       "        0.        , 0.        , 0.        , 0.        , 0.        ,\n",
       "        0.        , 0.        , 0.        , 0.        , 0.        ,\n",
       "        0.        , 0.        , 0.        ],\n",
       "       [0.        , 0.        , 0.        , 0.        , 0.        ,\n",
       "        0.        , 0.        , 0.        , 0.        , 0.        ,\n",
       "        0.        , 0.        , 0.        , 0.        , 0.        ,\n",
       "        0.        , 0.        , 0.        , 0.        , 0.        ,\n",
       "        0.        , 0.        , 0.        , 0.        , 0.        ,\n",
       "        0.        , 0.        , 0.        ],\n",
       "       [0.        , 0.        , 0.        , 0.        , 0.        ,\n",
       "        0.        , 0.        , 0.        , 0.        , 0.        ,\n",
       "        0.        , 0.        , 0.        , 0.        , 0.        ,\n",
       "        0.        , 0.        , 0.        , 0.        , 0.        ,\n",
       "        0.        , 0.        , 0.        , 0.        , 0.        ,\n",
       "        0.        , 0.        , 0.        ],\n",
       "       [0.        , 0.        , 0.        , 0.        , 0.        ,\n",
       "        0.        , 0.        , 0.        , 0.        , 0.        ,\n",
       "        0.        , 0.        , 0.        , 0.        , 0.        ,\n",
       "        0.        , 0.        , 0.        , 0.        , 0.        ,\n",
       "        0.        , 0.        , 0.        , 0.        , 0.        ,\n",
       "        0.        , 0.        , 0.        ],\n",
       "       [0.        , 0.        , 0.        , 0.        , 0.        ,\n",
       "        0.        , 0.        , 0.        , 0.        , 0.        ,\n",
       "        0.        , 0.        , 0.        , 0.        , 0.        ,\n",
       "        0.        , 0.        , 0.        , 0.        , 0.        ,\n",
       "        0.        , 0.        , 0.        , 0.        , 0.        ,\n",
       "        0.        , 0.        , 0.        ],\n",
       "       [0.        , 0.        , 0.        , 0.        , 0.        ,\n",
       "        0.        , 0.        , 0.        , 0.        , 0.        ,\n",
       "        0.        , 0.        , 0.14901961, 0.78431373, 0.20392157,\n",
       "        0.88627451, 0.88627451, 0.41568627, 0.4       , 0.78431373,\n",
       "        0.14901961, 0.        , 0.        , 0.        , 0.        ,\n",
       "        0.        , 0.        , 0.        ],\n",
       "       [0.        , 0.        , 0.        , 0.        , 0.        ,\n",
       "        0.        , 0.        , 0.        , 0.        , 0.        ,\n",
       "        0.        , 0.4       , 0.0627451 , 0.84705882, 0.88627451,\n",
       "        0.38431373, 0.20392157, 0.84705882, 0.84705882, 0.88627451,\n",
       "        0.56470588, 0.        , 0.        , 0.        , 0.        ,\n",
       "        0.        , 0.        , 0.        ],\n",
       "       [0.        , 0.        , 0.        , 0.        , 0.        ,\n",
       "        0.        , 0.        , 0.        , 0.        , 0.15686275,\n",
       "        0.22745098, 0.45490196, 0.84705882, 0.42352941, 0.54117647,\n",
       "        0.19607843, 0.47058824, 0.10980392, 0.84705882, 0.88627451,\n",
       "        0.53333333, 0.        , 0.        , 0.        , 0.        ,\n",
       "        0.        , 0.        , 0.        ],\n",
       "       [0.        , 0.        , 0.        , 0.        , 0.        ,\n",
       "        0.        , 0.        , 0.        , 0.        , 0.75294118,\n",
       "        0.84705882, 0.84705882, 0.14901961, 0.54901961, 0.        ,\n",
       "        0.        , 0.59607843, 0.84705882, 0.84705882, 0.79215686,\n",
       "        0.82352941, 0.        , 0.        , 0.        , 0.        ,\n",
       "        0.        , 0.        , 0.        ],\n",
       "       [0.        , 0.        , 0.        , 0.        , 0.        ,\n",
       "        0.        , 0.        , 0.        , 0.15686275, 0.88627451,\n",
       "        0.84705882, 0.70588235, 0.54901961, 0.        , 0.        ,\n",
       "        0.        , 0.4       , 0.84705882, 0.84705882, 0.08627451,\n",
       "        0.        , 0.        , 0.        , 0.        , 0.        ,\n",
       "        0.        , 0.        , 0.        ],\n",
       "       [0.        , 0.        , 0.        , 0.        , 0.        ,\n",
       "        0.        , 0.        , 0.9254902 , 0.88627451, 0.65098039,\n",
       "        0.87843137, 0.35294118, 0.        , 0.        , 0.31372549,\n",
       "        0.04705882, 0.57254902, 0.88627451, 0.03921569, 0.        ,\n",
       "        0.        , 0.        , 0.        , 0.        , 0.        ,\n",
       "        0.        , 0.        , 0.        ],\n",
       "       [0.        , 0.        , 0.        , 0.        , 0.        ,\n",
       "        0.        , 0.62745098, 0.0627451 , 0.84705882, 0.87843137,\n",
       "        0.        , 0.        , 0.        , 0.40784314, 0.85490196,\n",
       "        0.84705882, 0.84705882, 0.60392157, 0.43137255, 0.        ,\n",
       "        0.        , 0.        , 0.        , 0.        , 0.        ,\n",
       "        0.        , 0.        , 0.        ],\n",
       "       [0.        , 0.        , 0.        , 0.        , 0.        ,\n",
       "        0.        , 0.8627451 , 0.84705882, 0.84705882, 0.17254902,\n",
       "        0.8627451 , 0.65098039, 0.69803922, 0.41568627, 0.88627451,\n",
       "        0.84705882, 0.80784314, 0.00784314, 0.        , 0.        ,\n",
       "        0.        , 0.        , 0.        , 0.        , 0.        ,\n",
       "        0.        , 0.        , 0.        ],\n",
       "       [0.        , 0.        , 0.        , 0.        , 0.        ,\n",
       "        0.        , 0.62745098, 0.02352941, 0.84705882, 0.88627451,\n",
       "        0.84705882, 0.84705882, 0.84705882, 0.83137255, 0.87058824,\n",
       "        0.84705882, 0.02352941, 0.        , 0.        , 0.        ,\n",
       "        0.        , 0.        , 0.        , 0.        , 0.        ,\n",
       "        0.        , 0.        , 0.        ],\n",
       "       [0.        , 0.        , 0.        , 0.        , 0.        ,\n",
       "        0.        , 0.        , 0.14901961, 0.18039216, 0.88627451,\n",
       "        0.47843137, 0.39215686, 0.64313725, 0.94117647, 0.50196078,\n",
       "        0.84705882, 0.58823529, 0.        , 0.        , 0.        ,\n",
       "        0.        , 0.        , 0.        , 0.        , 0.        ,\n",
       "        0.        , 0.        , 0.        ],\n",
       "       [0.        , 0.        , 0.        , 0.        , 0.        ,\n",
       "        0.        , 0.        , 0.        , 0.        , 0.        ,\n",
       "        0.        , 0.        , 0.        , 0.42352941, 0.96470588,\n",
       "        0.88627451, 0.25882353, 0.        , 0.        , 0.        ,\n",
       "        0.        , 0.        , 0.        , 0.        , 0.        ,\n",
       "        0.        , 0.        , 0.        ],\n",
       "       [0.        , 0.        , 0.        , 0.        , 0.        ,\n",
       "        0.        , 0.        , 0.        , 0.        , 0.        ,\n",
       "        0.        , 0.        , 0.        , 0.77647059, 0.88627451,\n",
       "        0.84705882, 0.82352941, 0.        , 0.        , 0.        ,\n",
       "        0.        , 0.        , 0.        , 0.        , 0.        ,\n",
       "        0.        , 0.        , 0.        ],\n",
       "       [0.        , 0.        , 0.        , 0.        , 0.        ,\n",
       "        0.        , 0.        , 0.        , 0.        , 0.        ,\n",
       "        0.        , 0.        , 0.        , 0.        , 0.88627451,\n",
       "        0.84705882, 0.82352941, 0.        , 0.        , 0.        ,\n",
       "        0.        , 0.        , 0.        , 0.        , 0.        ,\n",
       "        0.        , 0.        , 0.        ],\n",
       "       [0.        , 0.        , 0.        , 0.        , 0.        ,\n",
       "        0.        , 0.        , 0.        , 0.        , 0.        ,\n",
       "        0.        , 0.        , 0.        , 0.77647059, 0.88627451,\n",
       "        0.84705882, 0.82352941, 0.        , 0.        , 0.        ,\n",
       "        0.        , 0.        , 0.        , 0.        , 0.        ,\n",
       "        0.        , 0.        , 0.        ],\n",
       "       [0.        , 0.        , 0.        , 0.        , 0.        ,\n",
       "        0.        , 0.        , 0.        , 0.        , 0.        ,\n",
       "        0.        , 0.        , 0.        , 0.14117647, 0.88627451,\n",
       "        0.84705882, 0.82352941, 0.        , 0.        , 0.        ,\n",
       "        0.        , 0.        , 0.        , 0.        , 0.        ,\n",
       "        0.        , 0.        , 0.        ],\n",
       "       [0.        , 0.        , 0.        , 0.        , 0.        ,\n",
       "        0.        , 0.        , 0.        , 0.        , 0.        ,\n",
       "        0.        , 0.        , 0.        , 0.76078431, 0.96470588,\n",
       "        0.88627451, 0.82352941, 0.        , 0.        , 0.        ,\n",
       "        0.        , 0.        , 0.        , 0.        , 0.        ,\n",
       "        0.        , 0.        , 0.        ],\n",
       "       [0.        , 0.        , 0.        , 0.        , 0.        ,\n",
       "        0.        , 0.        , 0.        , 0.        , 0.        ,\n",
       "        0.        , 0.        , 0.        , 0.        , 0.51764706,\n",
       "        0.84705882, 0.18823529, 0.        , 0.        , 0.        ,\n",
       "        0.        , 0.        , 0.        , 0.        , 0.        ,\n",
       "        0.        , 0.        , 0.        ],\n",
       "       [0.        , 0.        , 0.        , 0.        , 0.        ,\n",
       "        0.        , 0.        , 0.        , 0.        , 0.        ,\n",
       "        0.        , 0.        , 0.        , 0.        , 0.75294118,\n",
       "        0.84705882, 0.38431373, 0.64313725, 0.        , 0.        ,\n",
       "        0.        , 0.        , 0.        , 0.        , 0.        ,\n",
       "        0.        , 0.        , 0.        ],\n",
       "       [0.        , 0.        , 0.        , 0.        , 0.        ,\n",
       "        0.        , 0.        , 0.        , 0.        , 0.        ,\n",
       "        0.        , 0.        , 0.        , 0.        , 0.54901961,\n",
       "        0.18823529, 0.84705882, 0.64313725, 0.43137255, 0.        ,\n",
       "        0.        , 0.        , 0.        , 0.        , 0.        ,\n",
       "        0.        , 0.        , 0.        ],\n",
       "       [0.        , 0.        , 0.        , 0.        , 0.        ,\n",
       "        0.        , 0.        , 0.        , 0.        , 0.        ,\n",
       "        0.        , 0.        , 0.        , 0.        , 0.        ,\n",
       "        0.54901961, 0.74509804, 0.84705882, 0.64313725, 0.        ,\n",
       "        0.        , 0.        , 0.        , 0.        , 0.        ,\n",
       "        0.        , 0.        , 0.        ],\n",
       "       [0.        , 0.        , 0.        , 0.        , 0.        ,\n",
       "        0.        , 0.        , 0.        , 0.        , 0.        ,\n",
       "        0.        , 0.        , 0.        , 0.        , 0.        ,\n",
       "        0.        , 0.        , 0.        , 0.        , 0.        ,\n",
       "        0.        , 0.        , 0.        , 0.        , 0.        ,\n",
       "        0.        , 0.        , 0.        ]])"
      ]
     },
     "execution_count": 91,
     "metadata": {},
     "output_type": "execute_result"
    }
   ],
   "source": [
    "normal_xtrain = ((xtrain * 10) / 255)\n",
    "normal_xtrain[4]"
   ]
  },
  {
   "cell_type": "code",
   "execution_count": 92,
   "id": "fe11a204-2fad-45df-ad09-797228e38adf",
   "metadata": {},
   "outputs": [
    {
     "data": {
      "text/plain": [
       "(60000, 28, 28)"
      ]
     },
     "execution_count": 92,
     "metadata": {},
     "output_type": "execute_result"
    }
   ],
   "source": [
    "normal_xtrain.shape"
   ]
  },
  {
   "cell_type": "code",
   "execution_count": 93,
   "id": "4925a4b5-1eb3-4134-803f-78b872bc4c6d",
   "metadata": {},
   "outputs": [
    {
     "data": {
      "image/png": "[encoded data removed]",
      "text/plain": [
       "<Figure size 640x480 with 1 Axes>"
      ]
     },
     "metadata": {},
     "output_type": "display_data"
    }
   ],
   "source": [
    "def plot_normal_img(image):\n",
    "    plt.imshow(image)\n",
    "    plt.show()\n",
    "plot_normal_img(normal_xtrain[4])"
   ]
  },
  {
   "cell_type": "code",
   "execution_count": 94,
   "id": "fe7f0bcd-7148-4889-9fa3-6bcfe1a8498f",
   "metadata": {},
   "outputs": [
    {
     "data": {
      "image/png": "[encoded data removed]",
      "text/plain": [
       "<Figure size 640x480 with 1 Axes>"
      ]
     },
     "metadata": {},
     "output_type": "display_data"
    }
   ],
   "source": [
    "plot_normal_img(xtrain[4])"
   ]
  },
  {
   "cell_type": "code",
   "execution_count": 95,
   "id": "0f90b997-7ba1-47cf-ac7f-2a1902f61d0b",
   "metadata": {},
   "outputs": [],
   "source": [
    "def generate_masked_inputs(x,p):\n",
    "    mask = np.random.binomial(n = 1 , p=p , size = x.shape).astype('float32')\n",
    "    return x*mask\n",
    "masked_xtrain = generate_masked_inputs(normal_xtrain , 0.3)"
   ]
  },
  {
   "cell_type": "code",
   "execution_count": 96,
   "id": "13aa4dbf-e801-4b6c-92c6-d3e39cdd1e96",
   "metadata": {},
   "outputs": [
    {
     "data": {
      "image/png": "[encoded data removed]",
      "text/plain": [
       "<Figure size 640x480 with 1 Axes>"
      ]
     },
     "metadata": {},
     "output_type": "display_data"
    }
   ],
   "source": [
    "plot_normal_img(masked_xtrain[4])"
   ]
  },
  {
   "cell_type": "code",
   "execution_count": 97,
   "id": "c823acbf-8b79-4e9b-adb7-6448982833cd",
   "metadata": {},
   "outputs": [
    {
     "data": {
      "text/html": [
       "<pre style=\"white-space:pre;overflow-x:auto;line-height:normal;font-family:Menlo,'DejaVu Sans Mono',consolas,'Courier New',monospace\"><span style=\"font-weight: bold\">Model: \"sequential_3\"</span>\n",
       "</pre>\n"
      ],
      "text/plain": [
       "\u001b[1mModel: \"sequential_3\"\u001b[0m\n"
      ]
     },
     "metadata": {},
     "output_type": "display_data"
    },
    {
     "data": {
      "text/html": [
       "<pre style=\"white-space:pre;overflow-x:auto;line-height:normal;font-family:Menlo,'DejaVu Sans Mono',consolas,'Courier New',monospace\">┏━━━━━━━━━━━━━━━━━━━━━━━━━━━━━━━━━━━━━━┳━━━━━━━━━━━━━━━━━━━━━━━━━━━━━┳━━━━━━━━━━━━━━━━━┓\n",
       "┃<span style=\"font-weight: bold\"> Layer (type)                         </span>┃<span style=\"font-weight: bold\"> Output Shape                </span>┃<span style=\"font-weight: bold\">         Param # </span>┃\n",
       "┡━━━━━━━━━━━━━━━━━━━━━━━━━━━━━━━━━━━━━━╇━━━━━━━━━━━━━━━━━━━━━━━━━━━━━╇━━━━━━━━━━━━━━━━━┩\n",
       "│ flatten_1 (<span style=\"color: #0087ff; text-decoration-color: #0087ff\">Flatten</span>)                  │ (<span style=\"color: #00d7ff; text-decoration-color: #00d7ff\">None</span>, <span style=\"color: #00af00; text-decoration-color: #00af00\">784</span>)                 │               <span style=\"color: #00af00; text-decoration-color: #00af00\">0</span> │\n",
       "├──────────────────────────────────────┼─────────────────────────────┼─────────────────┤\n",
       "│ dense_12 (<span style=\"color: #0087ff; text-decoration-color: #0087ff\">Dense</span>)                     │ (<span style=\"color: #00d7ff; text-decoration-color: #00d7ff\">None</span>, <span style=\"color: #00af00; text-decoration-color: #00af00\">64</span>)                  │          <span style=\"color: #00af00; text-decoration-color: #00af00\">50,240</span> │\n",
       "├──────────────────────────────────────┼─────────────────────────────┼─────────────────┤\n",
       "│ dense_13 (<span style=\"color: #0087ff; text-decoration-color: #0087ff\">Dense</span>)                     │ (<span style=\"color: #00d7ff; text-decoration-color: #00d7ff\">None</span>, <span style=\"color: #00af00; text-decoration-color: #00af00\">32</span>)                  │           <span style=\"color: #00af00; text-decoration-color: #00af00\">2,080</span> │\n",
       "├──────────────────────────────────────┼─────────────────────────────┼─────────────────┤\n",
       "│ dense_14 (<span style=\"color: #0087ff; text-decoration-color: #0087ff\">Dense</span>)                     │ (<span style=\"color: #00d7ff; text-decoration-color: #00d7ff\">None</span>, <span style=\"color: #00af00; text-decoration-color: #00af00\">64</span>)                  │           <span style=\"color: #00af00; text-decoration-color: #00af00\">2,112</span> │\n",
       "├──────────────────────────────────────┼─────────────────────────────┼─────────────────┤\n",
       "│ dense_15 (<span style=\"color: #0087ff; text-decoration-color: #0087ff\">Dense</span>)                     │ (<span style=\"color: #00d7ff; text-decoration-color: #00d7ff\">None</span>, <span style=\"color: #00af00; text-decoration-color: #00af00\">784</span>)                 │          <span style=\"color: #00af00; text-decoration-color: #00af00\">50,960</span> │\n",
       "├──────────────────────────────────────┼─────────────────────────────┼─────────────────┤\n",
       "│ reshape_3 (<span style=\"color: #0087ff; text-decoration-color: #0087ff\">Reshape</span>)                  │ (<span style=\"color: #00d7ff; text-decoration-color: #00d7ff\">None</span>, <span style=\"color: #00af00; text-decoration-color: #00af00\">28</span>, <span style=\"color: #00af00; text-decoration-color: #00af00\">28</span>)              │               <span style=\"color: #00af00; text-decoration-color: #00af00\">0</span> │\n",
       "└──────────────────────────────────────┴─────────────────────────────┴─────────────────┘\n",
       "</pre>\n"
      ],
      "text/plain": [
       "┏━━━━━━━━━━━━━━━━━━━━━━━━━━━━━━━━━━━━━━┳━━━━━━━━━━━━━━━━━━━━━━━━━━━━━┳━━━━━━━━━━━━━━━━━┓\n",
       "┃\u001b[1m \u001b[0m\u001b[1mLayer (type)                        \u001b[0m\u001b[1m \u001b[0m┃\u001b[1m \u001b[0m\u001b[1mOutput Shape               \u001b[0m\u001b[1m \u001b[0m┃\u001b[1m \u001b[0m\u001b[1m        Param #\u001b[0m\u001b[1m \u001b[0m┃\n",
       "┡━━━━━━━━━━━━━━━━━━━━━━━━━━━━━━━━━━━━━━╇━━━━━━━━━━━━━━━━━━━━━━━━━━━━━╇━━━━━━━━━━━━━━━━━┩\n",
       "│ flatten_1 (\u001b[38;5;33mFlatten\u001b[0m)                  │ (\u001b[38;5;45mNone\u001b[0m, \u001b[38;5;34m784\u001b[0m)                 │               \u001b[38;5;34m0\u001b[0m │\n",
       "├──────────────────────────────────────┼─────────────────────────────┼─────────────────┤\n",
       "│ dense_12 (\u001b[38;5;33mDense\u001b[0m)                     │ (\u001b[38;5;45mNone\u001b[0m, \u001b[38;5;34m64\u001b[0m)                  │          \u001b[38;5;34m50,240\u001b[0m │\n",
       "├──────────────────────────────────────┼─────────────────────────────┼─────────────────┤\n",
       "│ dense_13 (\u001b[38;5;33mDense\u001b[0m)                     │ (\u001b[38;5;45mNone\u001b[0m, \u001b[38;5;34m32\u001b[0m)                  │           \u001b[38;5;34m2,080\u001b[0m │\n",
       "├──────────────────────────────────────┼─────────────────────────────┼─────────────────┤\n",
       "│ dense_14 (\u001b[38;5;33mDense\u001b[0m)                     │ (\u001b[38;5;45mNone\u001b[0m, \u001b[38;5;34m64\u001b[0m)                  │           \u001b[38;5;34m2,112\u001b[0m │\n",
       "├──────────────────────────────────────┼─────────────────────────────┼─────────────────┤\n",
       "│ dense_15 (\u001b[38;5;33mDense\u001b[0m)                     │ (\u001b[38;5;45mNone\u001b[0m, \u001b[38;5;34m784\u001b[0m)                 │          \u001b[38;5;34m50,960\u001b[0m │\n",
       "├──────────────────────────────────────┼─────────────────────────────┼─────────────────┤\n",
       "│ reshape_3 (\u001b[38;5;33mReshape\u001b[0m)                  │ (\u001b[38;5;45mNone\u001b[0m, \u001b[38;5;34m28\u001b[0m, \u001b[38;5;34m28\u001b[0m)              │               \u001b[38;5;34m0\u001b[0m │\n",
       "└──────────────────────────────────────┴─────────────────────────────┴─────────────────┘\n"
      ]
     },
     "metadata": {},
     "output_type": "display_data"
    },
    {
     "data": {
      "text/html": [
       "<pre style=\"white-space:pre;overflow-x:auto;line-height:normal;font-family:Menlo,'DejaVu Sans Mono',consolas,'Courier New',monospace\"><span style=\"font-weight: bold\"> Total params: </span><span style=\"color: #00af00; text-decoration-color: #00af00\">105,392</span> (411.69 KB)\n",
       "</pre>\n"
      ],
      "text/plain": [
       "\u001b[1m Total params: \u001b[0m\u001b[38;5;34m105,392\u001b[0m (411.69 KB)\n"
      ]
     },
     "metadata": {},
     "output_type": "display_data"
    },
    {
     "data": {
      "text/html": [
       "<pre style=\"white-space:pre;overflow-x:auto;line-height:normal;font-family:Menlo,'DejaVu Sans Mono',consolas,'Courier New',monospace\"><span style=\"font-weight: bold\"> Trainable params: </span><span style=\"color: #00af00; text-decoration-color: #00af00\">105,392</span> (411.69 KB)\n",
       "</pre>\n"
      ],
      "text/plain": [
       "\u001b[1m Trainable params: \u001b[0m\u001b[38;5;34m105,392\u001b[0m (411.69 KB)\n"
      ]
     },
     "metadata": {},
     "output_type": "display_data"
    },
    {
     "data": {
      "text/html": [
       "<pre style=\"white-space:pre;overflow-x:auto;line-height:normal;font-family:Menlo,'DejaVu Sans Mono',consolas,'Courier New',monospace\"><span style=\"font-weight: bold\"> Non-trainable params: </span><span style=\"color: #00af00; text-decoration-color: #00af00\">0</span> (0.00 B)\n",
       "</pre>\n"
      ],
      "text/plain": [
       "\u001b[1m Non-trainable params: \u001b[0m\u001b[38;5;34m0\u001b[0m (0.00 B)\n"
      ]
     },
     "metadata": {},
     "output_type": "display_data"
    }
   ],
   "source": [
    "autoencoder = models.Sequential([\n",
    "    layers.Input(shape = (28,28)),\n",
    "    layers.Flatten(),\n",
    "    layers.Dense(64, activation = \"relu\" , kernel_initializer = \"he_normal\"),\n",
    "    layers.Dense(32, activation = \"relu\" , kernel_initializer = \"he_normal\"),\n",
    "    layers.Dense(64, activation = \"relu\" , kernel_initializer = \"he_normal\"),\n",
    "    layers.Dense(784, activation = \"tanh\"),\n",
    "    layers.Reshape((28,28))\n",
    "])\n",
    "autoencoder.compile(loss= \"mse\" , optimizer = 'adam')\n",
    "autoencoder.summary()"
   ]
  },
  {
   "cell_type": "code",
   "execution_count": 98,
   "id": "3d524e86-6de9-4c24-b204-4fd17a8ff1d3",
   "metadata": {},
   "outputs": [
    {
     "name": "stdout",
     "output_type": "stream",
     "text": [
      "Epoch 1/20\n",
      "\u001b[1m938/938\u001b[0m \u001b[32m━━━━━━━━━━━━━━━━━━━━\u001b[0m\u001b[37m\u001b[0m \u001b[1m11s\u001b[0m 7ms/step - loss: 0.0401\n",
      "Epoch 2/20\n",
      "\u001b[1m938/938\u001b[0m \u001b[32m━━━━━━━━━━━━━━━━━━━━\u001b[0m\u001b[37m\u001b[0m \u001b[1m7s\u001b[0m 7ms/step - loss: 0.0326\n",
      "Epoch 3/20\n",
      "\u001b[1m938/938\u001b[0m \u001b[32m━━━━━━━━━━━━━━━━━━━━\u001b[0m\u001b[37m\u001b[0m \u001b[1m7s\u001b[0m 7ms/step - loss: 0.0313\n",
      "Epoch 4/20\n",
      "\u001b[1m938/938\u001b[0m \u001b[32m━━━━━━━━━━━━━━━━━━━━\u001b[0m\u001b[37m\u001b[0m \u001b[1m6s\u001b[0m 7ms/step - loss: 0.0305\n",
      "Epoch 5/20\n",
      "\u001b[1m938/938\u001b[0m \u001b[32m━━━━━━━━━━━━━━━━━━━━\u001b[0m\u001b[37m\u001b[0m \u001b[1m6s\u001b[0m 7ms/step - loss: 0.0299\n",
      "Epoch 6/20\n",
      "\u001b[1m938/938\u001b[0m \u001b[32m━━━━━━━━━━━━━━━━━━━━\u001b[0m\u001b[37m\u001b[0m \u001b[1m7s\u001b[0m 7ms/step - loss: 0.0294\n",
      "Epoch 7/20\n",
      "\u001b[1m938/938\u001b[0m \u001b[32m━━━━━━━━━━━━━━━━━━━━\u001b[0m\u001b[37m\u001b[0m \u001b[1m7s\u001b[0m 7ms/step - loss: 0.0290\n",
      "Epoch 8/20\n",
      "\u001b[1m938/938\u001b[0m \u001b[32m━━━━━━━━━━━━━━━━━━━━\u001b[0m\u001b[37m\u001b[0m \u001b[1m6s\u001b[0m 7ms/step - loss: 0.0288\n",
      "Epoch 9/20\n",
      "\u001b[1m938/938\u001b[0m \u001b[32m━━━━━━━━━━━━━━━━━━━━\u001b[0m\u001b[37m\u001b[0m \u001b[1m7s\u001b[0m 7ms/step - loss: 0.0285\n",
      "Epoch 10/20\n",
      "\u001b[1m938/938\u001b[0m \u001b[32m━━━━━━━━━━━━━━━━━━━━\u001b[0m\u001b[37m\u001b[0m \u001b[1m7s\u001b[0m 7ms/step - loss: 0.0283\n",
      "Epoch 11/20\n",
      "\u001b[1m938/938\u001b[0m \u001b[32m━━━━━━━━━━━━━━━━━━━━\u001b[0m\u001b[37m\u001b[0m \u001b[1m6s\u001b[0m 7ms/step - loss: 0.0282\n",
      "Epoch 12/20\n",
      "\u001b[1m938/938\u001b[0m \u001b[32m━━━━━━━━━━━━━━━━━━━━\u001b[0m\u001b[37m\u001b[0m \u001b[1m10s\u001b[0m 6ms/step - loss: 0.0280\n",
      "Epoch 13/20\n",
      "\u001b[1m938/938\u001b[0m \u001b[32m━━━━━━━━━━━━━━━━━━━━\u001b[0m\u001b[37m\u001b[0m \u001b[1m6s\u001b[0m 7ms/step - loss: 0.0278\n",
      "Epoch 14/20\n",
      "\u001b[1m938/938\u001b[0m \u001b[32m━━━━━━━━━━━━━━━━━━━━\u001b[0m\u001b[37m\u001b[0m \u001b[1m6s\u001b[0m 6ms/step - loss: 0.0276\n",
      "Epoch 15/20\n",
      "\u001b[1m938/938\u001b[0m \u001b[32m━━━━━━━━━━━━━━━━━━━━\u001b[0m\u001b[37m\u001b[0m \u001b[1m6s\u001b[0m 7ms/step - loss: 0.0275\n",
      "Epoch 16/20\n",
      "\u001b[1m938/938\u001b[0m \u001b[32m━━━━━━━━━━━━━━━━━━━━\u001b[0m\u001b[37m\u001b[0m \u001b[1m6s\u001b[0m 6ms/step - loss: 0.0274\n",
      "Epoch 17/20\n",
      "\u001b[1m938/938\u001b[0m \u001b[32m━━━━━━━━━━━━━━━━━━━━\u001b[0m\u001b[37m\u001b[0m \u001b[1m6s\u001b[0m 6ms/step - loss: 0.0273\n",
      "Epoch 18/20\n",
      "\u001b[1m938/938\u001b[0m \u001b[32m━━━━━━━━━━━━━━━━━━━━\u001b[0m\u001b[37m\u001b[0m \u001b[1m6s\u001b[0m 6ms/step - loss: 0.0272\n",
      "Epoch 19/20\n",
      "\u001b[1m938/938\u001b[0m \u001b[32m━━━━━━━━━━━━━━━━━━━━\u001b[0m\u001b[37m\u001b[0m \u001b[1m6s\u001b[0m 6ms/step - loss: 0.0271\n",
      "Epoch 20/20\n",
      "\u001b[1m938/938\u001b[0m \u001b[32m━━━━━━━━━━━━━━━━━━━━\u001b[0m\u001b[37m\u001b[0m \u001b[1m6s\u001b[0m 6ms/step - loss: 0.0270\n"
     ]
    }
   ],
   "source": [
    "history = autoencoder.fit(masked_xtrain,normal_xtrain , batch_size= 64 , epochs = 20)"
   ]
  },
  {
   "cell_type": "code",
   "execution_count": 99,
   "id": "fa4d3471-3a88-423b-8c56-a0a3de1fcad3",
   "metadata": {},
   "outputs": [
    {
     "name": "stdout",
     "output_type": "stream",
     "text": [
      "\u001b[1m313/313\u001b[0m \u001b[32m━━━━━━━━━━━━━━━━━━━━\u001b[0m\u001b[37m\u001b[0m \u001b[1m1s\u001b[0m 3ms/step    \n"
     ]
    }
   ],
   "source": [
    "xtest_sample = xtest[:10] \n",
    "ytest_sample = ytest[:10] \n",
    "normal_xtest = (((xtest * 10) / 255))\n",
    "masked_xtest = generate_masked_inputs(normal_xtest,0.3)\n",
    "ypredict =autoencoder.predict(masked_xtest)"
   ]
  },
  {
   "cell_type": "code",
   "execution_count": 100,
   "id": "6bd649a9-5de8-4eb8-9752-5d000715e04f",
   "metadata": {},
   "outputs": [
    {
     "data": {
      "text/plain": [
       "array([[-4.36463642e-06,  2.61011621e-07, -1.03890635e-07,\n",
       "         3.37063757e-05,  6.22584707e-07,  7.24121628e-06,\n",
       "         5.28803383e-08,  4.71814565e-06, -2.11709403e-06,\n",
       "        -1.11801310e-05, -1.47416949e-05, -2.91684955e-05,\n",
       "        -3.30054427e-05,  5.01760805e-05, -4.70185332e-05,\n",
       "        -1.70941603e-05, -1.10367409e-05, -2.29983416e-05,\n",
       "        -4.47064394e-06, -1.76963404e-05, -6.51394948e-05,\n",
       "         4.23679521e-05, -5.29237468e-07, -1.79397139e-05,\n",
       "         4.23547226e-06, -1.09829689e-05,  8.38507985e-05,\n",
       "         3.69422160e-05],\n",
       "       [-6.49169306e-06,  1.70552411e-07,  4.84547445e-06,\n",
       "        -2.86149634e-06,  1.70836720e-05,  5.77894480e-06,\n",
       "        -7.05843995e-05, -2.88372580e-03, -1.59016950e-03,\n",
       "        -1.86603179e-03,  4.24317922e-03,  5.05752908e-03,\n",
       "         1.55355351e-03,  4.41676908e-04,  2.56567099e-03,\n",
       "         3.22710257e-03,  3.64402472e-03,  3.09715746e-03,\n",
       "        -6.14542631e-04, -7.92573148e-04, -8.56949307e-04,\n",
       "        -1.70946762e-04, -9.50051690e-05, -3.19145620e-05,\n",
       "         1.49329484e-04, -9.72364887e-07, -4.29845422e-05,\n",
       "         1.76076574e-05],\n",
       "       [ 1.14195818e-05, -1.49104799e-05, -3.76294374e-05,\n",
       "        -1.09606699e-05,  3.54960747e-03, -1.35926151e-04,\n",
       "         1.70379912e-03,  7.79178925e-04, -6.45293389e-03,\n",
       "        -5.15326206e-03,  4.66354191e-03,  2.29719765e-02,\n",
       "         3.18484344e-02,  3.42015475e-02,  2.87394114e-02,\n",
       "         1.21717053e-02, -1.29646827e-02, -3.11396923e-02,\n",
       "        -4.18844856e-02, -3.92399207e-02, -3.41162011e-02,\n",
       "        -1.65737569e-02, -9.96650197e-03, -3.79689317e-03,\n",
       "        -1.40343676e-04,  2.73555377e-03,  2.81216623e-03,\n",
       "        -1.55884413e-06],\n",
       "       [-1.51666376e-04, -6.30673821e-06,  8.79210929e-05,\n",
       "        -8.47297561e-05, -3.18706501e-03, -4.77088802e-03,\n",
       "        -1.81552605e-04, -1.42303873e-02, -1.70299672e-02,\n",
       "        -5.74386958e-03,  5.89326536e-03,  2.51502506e-02,\n",
       "         4.52525951e-02,  3.77035402e-02,  3.05321179e-02,\n",
       "         1.02212727e-02, -1.49513520e-02, -2.05672570e-02,\n",
       "        -1.23741021e-02, -1.82132330e-02, -2.62465402e-02,\n",
       "        -2.27179304e-02, -1.73450895e-02, -7.71430368e-03,\n",
       "         3.24070337e-03,  6.72866311e-03,  1.05891195e-04,\n",
       "        -1.19815404e-05],\n",
       "       [ 1.18034609e-06, -1.02147442e-05, -8.34840612e-05,\n",
       "         1.60065450e-04, -3.51850502e-03, -2.41085957e-03,\n",
       "        -1.20605873e-02, -1.85125358e-02, -1.28131760e-02,\n",
       "         1.70655772e-02,  3.40004601e-02,  6.58526197e-02,\n",
       "         8.46426710e-02,  7.25308210e-02,  6.31322041e-02,\n",
       "         5.40769249e-02,  6.60217032e-02,  9.69189480e-02,\n",
       "         1.03296332e-01,  9.44653004e-02,  6.52559847e-02,\n",
       "         1.03002423e-02, -2.58077439e-02, -2.66985614e-02,\n",
       "        -2.19824985e-02, -1.20294688e-03, -1.34164584e-05,\n",
       "         4.66900055e-05],\n",
       "       [ 1.28585976e-04,  2.15786167e-05, -2.44133570e-03,\n",
       "         1.04247024e-02, -4.79070609e-03, -1.19996667e-02,\n",
       "        -2.77529005e-03,  1.42708309e-02,  5.05257957e-02,\n",
       "         1.03730008e-01,  1.52532086e-01,  2.12112829e-01,\n",
       "         1.82674915e-01,  1.51929602e-01,  8.50708783e-02,\n",
       "         4.85567339e-02,  1.00143060e-01,  1.50150761e-01,\n",
       "         1.98242620e-01,  2.11742610e-01,  2.12349832e-01,\n",
       "         1.20489255e-01,  2.33309213e-02, -1.83447413e-02,\n",
       "        -9.15502291e-03, -3.10886651e-04, -1.10711576e-02,\n",
       "        -4.89580416e-05],\n",
       "       [ 2.12751547e-06,  7.32998771e-04, -2.35688966e-03,\n",
       "         6.53265463e-03,  1.24109462e-02,  1.34695426e-03,\n",
       "         2.30923314e-02,  6.59893900e-02,  1.51636735e-01,\n",
       "         2.90524721e-01,  3.85728300e-01,  4.28207964e-01,\n",
       "         3.38440716e-01,  2.34376281e-01,  1.82618052e-01,\n",
       "         1.25900254e-01,  1.08761638e-01,  1.33478984e-01,\n",
       "         2.59956121e-01,  3.44783962e-01,  3.40688050e-01,\n",
       "         2.32905909e-01,  6.07836135e-02, -1.07942130e-02,\n",
       "        -2.70445831e-02, -2.59390450e-03, -7.01530045e-03,\n",
       "         1.37153931e-03],\n",
       "       [-1.30409244e-05,  4.79473174e-03,  3.97987245e-03,\n",
       "         2.22402494e-02,  2.52647791e-02,  5.83294872e-03,\n",
       "         3.11381631e-02,  1.08468831e-01,  2.97294945e-01,\n",
       "         4.70146269e-01,  5.90011954e-01,  5.24616420e-01,\n",
       "         3.67342889e-01,  1.96005225e-01,  5.94644621e-02,\n",
       "        -1.25458767e-03,  4.17752117e-02,  7.67507032e-02,\n",
       "         2.51975089e-01,  4.23290551e-01,  4.78975385e-01,\n",
       "         3.24910611e-01,  1.29050717e-01, -1.17225898e-02,\n",
       "        -1.01259314e-02, -5.73896850e-03, -2.39526667e-03,\n",
       "        -2.35292871e-04],\n",
       "       [-1.39076092e-05,  1.64386549e-03,  5.38480002e-03,\n",
       "         2.16760226e-02,  1.47821438e-02, -5.16118202e-03,\n",
       "         3.54681239e-02,  1.79473162e-01,  3.89961571e-01,\n",
       "         6.05917692e-01,  6.15276396e-01,  4.40573812e-01,\n",
       "         1.49831191e-01, -3.78302159e-03, -7.85795748e-02,\n",
       "        -4.60782573e-02, -1.43252462e-02,  6.96981624e-02,\n",
       "         2.97688156e-01,  5.39211154e-01,  5.79580963e-01,\n",
       "         4.48116601e-01,  1.65855631e-01,  3.09727378e-02,\n",
       "        -2.16752314e-03,  2.92236637e-03, -4.53016208e-03,\n",
       "        -1.84165954e-04],\n",
       "       [-3.79166204e-06, -3.27970716e-04,  8.92374897e-04,\n",
       "         9.27645992e-03, -1.21362656e-02, -3.45561877e-02,\n",
       "         8.90392903e-03,  2.21164495e-01,  5.13234615e-01,\n",
       "         6.48553729e-01,  5.31201065e-01,  1.65679440e-01,\n",
       "        -9.20259878e-02, -1.58540756e-01, -8.16190466e-02,\n",
       "        -1.24218352e-02, -5.38824797e-02,  6.43088669e-02,\n",
       "         3.84612679e-01,  5.99540949e-01,  6.34774387e-01,\n",
       "         4.47294116e-01,  1.79785371e-01,  4.67008390e-02,\n",
       "         6.47250097e-03,  1.07021714e-02,  5.34640567e-04,\n",
       "        -1.39295298e-04],\n",
       "       [ 8.49364733e-06, -7.22506433e-04, -4.13421541e-03,\n",
       "         8.26404255e-04, -2.73534022e-02, -5.32723591e-02,\n",
       "         4.85602207e-02,  2.77500600e-01,  5.98306954e-01,\n",
       "         6.34361088e-01,  3.48451108e-01, -2.00757347e-02,\n",
       "        -1.29522040e-01, -5.45794182e-02,  4.41371165e-02,\n",
       "         4.64718528e-02, -6.30217465e-03,  1.33026659e-01,\n",
       "         4.62250710e-01,  6.53140426e-01,  6.10739291e-01,\n",
       "         3.87008846e-01,  1.58396497e-01,  3.06473486e-02,\n",
       "         3.99394706e-03,  3.94957978e-03,  4.05657291e-03,\n",
       "        -3.65075306e-04],\n",
       "       [-9.35845965e-05, -2.68426782e-04, -1.87072728e-03,\n",
       "        -4.31483053e-03, -3.34659144e-02, -3.35999429e-02,\n",
       "         9.83744934e-02,  3.73776793e-01,  6.28433168e-01,\n",
       "         5.94787776e-01,  2.14102894e-01, -6.67571723e-02,\n",
       "        -3.78400534e-02,  8.81294534e-02,  1.41178742e-01,\n",
       "         4.86264005e-02,  6.25532418e-02,  2.67557353e-01,\n",
       "         5.71912229e-01,  6.67227745e-01,  5.57303846e-01,\n",
       "         3.32651645e-01,  9.92058069e-02,  9.44109168e-03,\n",
       "         3.99660412e-03,  6.57008262e-03, -3.45472456e-03,\n",
       "        -1.85763696e-04],\n",
       "       [-1.25884078e-04, -1.75044173e-04, -4.88034682e-03,\n",
       "         2.12156307e-03, -2.20725089e-02, -2.94474512e-02,\n",
       "         1.30743563e-01,  4.69174743e-01,  6.53346896e-01,\n",
       "         5.16149104e-01,  2.89988220e-02, -7.99545050e-02,\n",
       "         4.57986211e-03,  9.82717797e-02,  7.81824589e-02,\n",
       "        -2.11046804e-02,  4.15330380e-02,  3.55481774e-01,\n",
       "         6.61406755e-01,  6.72615230e-01,  4.86616820e-01,\n",
       "         2.31806353e-01,  6.00277446e-02,  1.05439639e-02,\n",
       "         4.19236626e-03, -3.96908913e-03, -4.31990018e-03,\n",
       "        -1.17938558e-04],\n",
       "       [ 9.30421834e-07, -2.20879505e-04, -7.81279115e-04,\n",
       "        -1.85544486e-03, -2.53791399e-02, -1.09826438e-02,\n",
       "         1.39882565e-01,  4.89538938e-01,  6.45542145e-01,\n",
       "         4.19909030e-01, -2.89404131e-02, -1.16731450e-01,\n",
       "        -5.70156462e-02,  4.83451923e-03, -6.27976209e-02,\n",
       "        -9.87183973e-02,  7.01468959e-02,  4.39836949e-01,\n",
       "         6.86854601e-01,  6.16449356e-01,  3.56041998e-01,\n",
       "         1.46046266e-01,  4.13427949e-02,  9.51108336e-03,\n",
       "         2.42284033e-02,  1.06456794e-03, -5.69837261e-03,\n",
       "         6.59162784e-03],\n",
       "       [-1.38492705e-05, -1.30697168e-04,  3.04755382e-03,\n",
       "         1.78746739e-03, -1.91221479e-02,  1.14636356e-02,\n",
       "         1.48810089e-01,  4.68106568e-01,  6.22587144e-01,\n",
       "         4.10239726e-01,  1.15126275e-01, -3.92461494e-02,\n",
       "         2.85436679e-02,  7.07972646e-02, -1.12723177e-02,\n",
       "         2.17359774e-02,  1.94089562e-01,  5.50997078e-01,\n",
       "         6.64833248e-01,  5.06895423e-01,  2.17619523e-01,\n",
       "         7.93981105e-02,  2.19433308e-02,  2.50139199e-02,\n",
       "         3.83606553e-02,  1.27880191e-02,  4.29301336e-03,\n",
       "        -3.52492389e-05],\n",
       "       [-7.64961413e-04, -2.42619790e-05,  4.93551488e-04,\n",
       "         8.62760749e-03, -4.08837572e-03,  2.91558038e-02,\n",
       "         1.75213277e-01,  4.71069634e-01,  6.61750674e-01,\n",
       "         6.18603587e-01,  4.30382669e-01,  3.57467562e-01,\n",
       "         3.52961749e-01,  3.55836064e-01,  3.15702349e-01,\n",
       "         3.24213743e-01,  4.51092899e-01,  6.97937429e-01,\n",
       "         6.65321469e-01,  3.93731683e-01,  1.48292676e-01,\n",
       "         4.36297506e-02,  3.72515507e-02,  3.85719053e-02,\n",
       "         5.09589948e-02,  1.66127719e-02,  3.02807218e-03,\n",
       "        -2.92840050e-05],\n",
       "       [ 3.05597932e-04, -2.42115377e-04,  3.10111488e-03,\n",
       "         4.13172459e-03,  1.36661553e-03,  4.63728234e-02,\n",
       "         2.03008115e-01,  4.64881241e-01,  6.43999934e-01,\n",
       "         6.95686638e-01,  6.80557489e-01,  6.47356391e-01,\n",
       "         6.25147581e-01,  5.94281495e-01,  5.62333941e-01,\n",
       "         5.32786548e-01,  6.10524178e-01,  7.59459317e-01,\n",
       "         6.57440007e-01,  3.45616460e-01,  8.27143043e-02,\n",
       "         1.65315100e-03,  3.94136608e-02,  4.35219519e-02,\n",
       "         4.68956232e-02,  2.80820243e-02,  1.02698745e-03,\n",
       "         9.19557497e-05],\n",
       "       [-2.56573525e-03,  6.16845500e-05,  9.12325829e-03,\n",
       "         1.31171774e-02,  3.29821147e-02,  5.83093353e-02,\n",
       "         1.98793247e-01,  3.95216942e-01,  5.79037368e-01,\n",
       "         6.67682171e-01,  6.70123816e-01,  5.96399426e-01,\n",
       "         5.63305259e-01,  5.19100428e-01,  4.63968337e-01,\n",
       "         4.59340483e-01,  5.99409640e-01,  7.44235158e-01,\n",
       "         6.47528887e-01,  3.24457049e-01,  7.23359361e-02,\n",
       "         2.35775337e-02,  1.16071561e-02,  2.97658481e-02,\n",
       "         2.79701501e-02,  2.20805723e-02,  7.11217709e-03,\n",
       "         1.68134560e-04],\n",
       "       [ 6.72891329e-05, -8.05560849e-05,  9.58972797e-03,\n",
       "         2.48993728e-02,  4.91008498e-02,  7.45055825e-02,\n",
       "         1.48602486e-01,  2.65267521e-01,  4.05392766e-01,\n",
       "         4.82033372e-01,  4.58265960e-01,  3.82459521e-01,\n",
       "         3.23240787e-01,  2.75932699e-01,  2.18281746e-01,\n",
       "         2.47017488e-01,  4.90712285e-01,  7.17809975e-01,\n",
       "         6.37894809e-01,  3.46079230e-01,  7.79056475e-02,\n",
       "        -4.33966488e-04,  1.40319029e-02,  1.04002533e-02,\n",
       "         1.52159343e-02,  9.22693592e-03,  4.37126309e-03,\n",
       "         2.42028269e-04],\n",
       "       [-1.50510932e-05, -2.27864570e-04, -3.34434654e-03,\n",
       "         2.63864007e-02,  6.41164854e-02,  7.10585788e-02,\n",
       "         9.29143950e-02,  1.13709457e-01,  1.72409669e-01,\n",
       "         2.36956477e-01,  2.07532242e-01,  1.50382996e-01,\n",
       "         8.62616077e-02,  2.93202512e-02, -1.60003323e-02,\n",
       "         7.02114925e-02,  4.12205130e-01,  7.07199037e-01,\n",
       "         6.22623146e-01,  3.66562098e-01,  8.57315958e-02,\n",
       "        -2.94698477e-02, -4.20063175e-02, -2.72037778e-02,\n",
       "        -1.80663858e-02, -9.52116854e-04, -9.20492515e-04,\n",
       "         1.66527883e-04],\n",
       "       [-1.54060654e-05,  1.36606663e-03, -2.93292454e-03,\n",
       "         2.72432603e-02,  5.74438684e-02,  6.66287318e-02,\n",
       "         4.68132310e-02,  1.39841298e-02,  3.25003341e-02,\n",
       "         9.64919478e-02,  8.19217935e-02,  2.28439309e-02,\n",
       "        -3.23417298e-02, -9.65519994e-02, -1.37230918e-01,\n",
       "         3.08401734e-02,  4.74307090e-01,  7.00047731e-01,\n",
       "         6.30057931e-01,  3.25107455e-01,  2.71782801e-02,\n",
       "        -8.36230665e-02, -7.98084810e-02, -4.93591540e-02,\n",
       "        -2.20226329e-02, -6.61419285e-03, -6.31966535e-03,\n",
       "         6.51987793e-05],\n",
       "       [-3.52950083e-05, -5.70329512e-03, -8.56398419e-03,\n",
       "         4.21341322e-03,  4.31048088e-02,  3.71929444e-02,\n",
       "        -3.79930693e-03, -6.72007278e-02, -5.82685806e-02,\n",
       "        -1.25740543e-02,  4.96696979e-02,  3.77364829e-02,\n",
       "        -4.22097296e-02, -1.14991806e-01, -4.96652648e-02,\n",
       "         1.70656413e-01,  5.12910306e-01,  6.59218073e-01,\n",
       "         5.44135988e-01,  2.33435601e-01, -1.96103025e-02,\n",
       "        -7.64124021e-02, -6.54351935e-02, -3.49141844e-02,\n",
       "        -1.72007401e-02,  1.11480622e-04, -7.41386134e-03,\n",
       "         1.12486423e-05],\n",
       "       [-3.07552109e-05, -4.39131254e-05, -1.57174387e-03,\n",
       "         9.77402437e-04,  3.37819532e-02,  2.70762146e-02,\n",
       "        -2.57801563e-02, -8.06884095e-02, -6.64463490e-02,\n",
       "        -1.72449723e-02,  5.63222803e-02,  8.55852291e-02,\n",
       "         1.61083266e-02,  1.82622299e-02,  1.28133953e-01,\n",
       "         2.64602602e-01,  4.70159203e-01,  5.75524628e-01,\n",
       "         4.44414109e-01,  1.95119649e-01,  2.52837706e-02,\n",
       "        -3.99643965e-02, -2.51341686e-02, -3.38703431e-02,\n",
       "        -7.90838618e-03, -6.49338355e-03,  4.36921231e-03,\n",
       "         5.75218874e-05],\n",
       "       [ 1.57720769e-05, -6.88490945e-06, -3.06324568e-04,\n",
       "         4.01243474e-03,  3.99670657e-03, -1.90201111e-03,\n",
       "        -2.05176584e-02, -4.05556746e-02, -3.22505683e-02,\n",
       "        -1.18083050e-02, -2.62069646e-02, -3.97924967e-02,\n",
       "        -2.46944744e-02,  6.44213930e-02,  1.27156898e-01,\n",
       "         1.84309974e-01,  3.77830952e-01,  4.66699421e-01,\n",
       "         3.75099987e-01,  2.06823647e-01,  7.54614100e-02,\n",
       "         1.37820141e-02, -2.25774944e-03, -1.79728027e-02,\n",
       "        -6.95820956e-04, -2.21072393e-03,  4.35778813e-04,\n",
       "        -1.98388385e-04],\n",
       "       [-2.18005356e-04,  2.50499997e-05, -9.80116456e-05,\n",
       "         1.04611705e-03,  1.14460038e-02,  5.01771038e-03,\n",
       "         1.04051176e-02,  1.82231460e-02,  5.04917502e-02,\n",
       "         4.12761159e-02,  1.40450485e-02, -3.76173705e-02,\n",
       "        -3.11045442e-02,  3.05552129e-02,  7.56266415e-02,\n",
       "         1.50024340e-01,  2.37782687e-01,  3.23324114e-01,\n",
       "         2.80532271e-01,  1.69843823e-01,  5.90937212e-02,\n",
       "         1.15335956e-02, -6.54501654e-03, -2.10786075e-03,\n",
       "        -6.11863425e-03, -1.47882872e-03, -6.90148299e-05,\n",
       "         5.01325470e-04],\n",
       "       [ 2.72373700e-06,  1.81059277e-05, -9.00355517e-05,\n",
       "         1.54733818e-04,  5.29862335e-03,  1.37166947e-03,\n",
       "         2.14044321e-02,  5.36148325e-02,  6.62608370e-02,\n",
       "         5.43763526e-02,  1.50072314e-02, -1.77980121e-03,\n",
       "         1.04957381e-02,  1.11390203e-02, -1.17766613e-03,\n",
       "         5.53298683e-04,  4.84874621e-02,  1.31150827e-01,\n",
       "         1.18685469e-01,  6.67919293e-02,  2.75062826e-02,\n",
       "        -7.16618029e-03,  5.62541746e-03, -2.52713775e-03,\n",
       "         7.84301898e-04,  2.11080951e-05, -1.09374079e-04,\n",
       "         3.01902546e-05],\n",
       "       [-3.22818451e-05, -1.06006244e-03,  4.52145287e-06,\n",
       "         1.51896620e-06,  4.12030437e-04,  2.58041103e-03,\n",
       "         4.43146378e-03,  1.72054246e-02,  3.27327996e-02,\n",
       "         8.23634677e-03, -1.24197304e-02, -1.43357804e-02,\n",
       "        -2.06046384e-02, -3.81641239e-02, -4.94260080e-02,\n",
       "        -2.56658457e-02, -8.01014341e-03,  2.33851355e-02,\n",
       "         3.80108915e-02,  1.78456679e-02, -3.37690581e-03,\n",
       "        -2.46658246e-03,  3.14980536e-03, -1.06514490e-04,\n",
       "         4.25525541e-05, -2.55778315e-04, -9.25253516e-06,\n",
       "        -2.10718899e-05],\n",
       "       [ 2.69471684e-06,  2.33400579e-06,  1.29655482e-05,\n",
       "        -4.63940014e-05,  7.40488758e-05, -4.46361344e-04,\n",
       "        -1.10747933e-04,  3.11584189e-03, -3.07476148e-06,\n",
       "         2.45411857e-03,  6.40656613e-03,  5.95095521e-03,\n",
       "         3.55819589e-03, -1.10642053e-03, -4.66346228e-03,\n",
       "        -2.21384829e-03,  5.03323914e-04,  1.23395948e-02,\n",
       "         7.26039289e-03,  1.28344819e-02,  4.75965859e-03,\n",
       "        -2.55113351e-03,  3.33517601e-05,  1.78443024e-05,\n",
       "        -6.29959177e-05, -2.64375285e-06, -2.56069208e-04,\n",
       "        -1.52947123e-05]], dtype=float32)"
      ]
     },
     "execution_count": 100,
     "metadata": {},
     "output_type": "execute_result"
    }
   ],
   "source": [
    "ypredict[4]"
   ]
  },
  {
   "cell_type": "code",
   "execution_count": 101,
   "id": "793a0d27-e941-452e-aaf0-e3dc84390635",
   "metadata": {},
   "outputs": [
    {
     "data": {
      "image/png": "[encoded data removed]",
      "text/plain": [
       "<Figure size 640x480 with 1 Axes>"
      ]
     },
     "metadata": {},
     "output_type": "display_data"
    }
   ],
   "source": [
    "plot_normal_img(masked_xtest[4])"
   ]
  },
  {
   "cell_type": "code",
   "execution_count": 102,
   "id": "a14bf66d-e0cf-42ba-a5bd-aac0b1374de1",
   "metadata": {},
   "outputs": [
    {
     "data": {
      "image/png": "[encoded data removed]",
      "text/plain": [
       "<Figure size 640x480 with 1 Axes>"
      ]
     },
     "metadata": {},
     "output_type": "display_data"
    }
   ],
   "source": [
    "plot_normal_img(ypredict[4])"
   ]
  }
 ],
 "metadata": {
  "kernelspec": {
   "display_name": "Python 3 (ipykernel)",
   "language": "python",
   "name": "python3"
  },
  "language_info": {
   "codemirror_mode": {
    "name": "ipython",
    "version": 3
   },
   "file_extension": ".py",
   "mimetype": "text/x-python",
   "name": "python",
   "nbconvert_exporter": "python",
   "pygments_lexer": "ipython3",
   "version": "3.13.7"
  }
 },
 "nbformat": 4,
 "nbformat_minor": 5
}

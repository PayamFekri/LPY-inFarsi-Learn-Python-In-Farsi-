{
 "cells": [
  {
   "cell_type": "markdown",
   "id": "9aba315f-7902-4ac2-af20-70f3b242577c",
   "metadata": {},
   "source": [
    "<font size = 5 color = 'blue' ><b>NMF : non- negative matrix factorization</b> </font>"
   ]
  },
  {
   "cell_type": "code",
   "execution_count": 15,
   "id": "ac52dd1e-c06b-44c7-ab2d-ebbd78228bb4",
   "metadata": {},
   "outputs": [],
   "source": [
    "from sklearn.decomposition import NMF\n",
    "import numpy as np"
   ]
  },
  {
   "cell_type": "markdown",
   "id": "3c9c796f-0d23-4f25-b823-b1823f0fce88",
   "metadata": {},
   "source": [
    "<b>if k  = 3 :👇</b>"
   ]
  },
  {
   "cell_type": "code",
   "execution_count": 41,
   "id": "89cc5c1d-a393-4e0c-bc2e-fb9f47a075be",
   "metadata": {},
   "outputs": [
    {
     "name": "stdout",
     "output_type": "stream",
     "text": [
      "الگوها (W):\n",
      " [[0.222 0.342 0.   ]\n",
      " [0.    0.647 0.247]\n",
      " [0.    0.333 0.245]\n",
      " [0.    1.628 0.01 ]\n",
      " [0.    0.    2.211]\n",
      " [0.989 0.    0.124]] \n",
      "\n",
      "ترکیب‌ها (H):\n",
      " [[9.572 0.    1.221 0.079]\n",
      " [0.    2.893 2.351 1.675]\n",
      " [4.07  0.888 0.    0.112]] \t\n"
     ]
    }
   ],
   "source": [
    "V = np.array([[2, 0, 2, 1], \n",
    "              [1, 2, 1, 2], \n",
    "              [1, 1, 0, 2],\n",
    "              [0, 5, 4, 2],\n",
    "              [9, 2, 0, 0],\n",
    "              [10, 0, 1,0],])\n",
    "\n",
    "\n",
    "model = NMF(n_components=3)\n",
    "W = model.fit_transform(V)  # جدول الگوها\n",
    "H = model.components_       # جدول ترکیب‌ها\n",
    "\n",
    "W =  np.round(W, 3)\n",
    "H =  np.round(H, 3)\n",
    "\n",
    "print(\"الگوها (W):\\n\", W,\"\\n\")\n",
    "print(\"ترکیب‌ها (H):\\n\", H,\"\\t\")"
   ]
  },
  {
   "cell_type": "code",
   "execution_count": 42,
   "id": "2fea8cde-0dbc-411a-b3fe-724ca5a64cd3",
   "metadata": {},
   "outputs": [
    {
     "data": {
      "text/plain": [
       "array([[2.124984, 0.989406, 1.075104, 0.590388],\n",
       "       [1.00529 , 2.091107, 1.521097, 1.111389],\n",
       "       [0.99715 , 1.180929, 0.782883, 0.585215],\n",
       "       [0.0407  , 4.718684, 3.827428, 2.72802 ],\n",
       "       [8.99877 , 1.963368, 0.      , 0.247632],\n",
       "       [9.971388, 0.110112, 1.207569, 0.092019]])"
      ]
     },
     "execution_count": 42,
     "metadata": {},
     "output_type": "execute_result"
    }
   ],
   "source": [
    "V = np.array([[2, 0, 2, 1], \n",
    "              [1, 2, 1, 2], \n",
    "              [1, 1, 0, 2],\n",
    "              [0, 5, 4, 2],\n",
    "              [9, 2, 0, 0],\n",
    "              [10, 0, 1,0],])\n",
    "new_V = np.dot(W, H)\n",
    "new_V"
   ]
  },
  {
   "cell_type": "code",
   "execution_count": 43,
   "id": "013ac65f-40bb-4289-aec6-bc385affd0b1",
   "metadata": {},
   "outputs": [
    {
     "name": "stdout",
     "output_type": "stream",
     "text": [
      "6.502\n"
     ]
    }
   ],
   "source": [
    "sub = np.subtract(V,new_V)\n",
    "eq = np.square(sub)\n",
    "error= np.sum(eq)\n",
    "error =  np.round(error, 3)\n",
    "print(error)"
   ]
  },
  {
   "cell_type": "markdown",
   "id": "3b129b08-db69-47d1-84f6-db7154b85e2c",
   "metadata": {},
   "source": [
    "<b>if k  = 4 :👇</b>"
   ]
  },
  {
   "cell_type": "code",
   "execution_count": 44,
   "id": "4f571821-c5e2-4b21-b551-908c3152b4d7",
   "metadata": {},
   "outputs": [
    {
     "name": "stdout",
     "output_type": "stream",
     "text": [
      "الگوها (W):\n",
      " [[0.164 0.528 0.137 0.   ]\n",
      " [0.082 0.264 0.28  0.643]\n",
      " [0.082 0.    0.283 0.322]\n",
      " [0.    1.056 0.272 1.609]\n",
      " [0.737 0.    0.    0.643]\n",
      " [0.819 0.264 0.    0.   ]] \n",
      "\n",
      "ترکیب‌ها (H):\n",
      " [[1.2205e+01 0.0000e+00 0.0000e+00 0.0000e+00]\n",
      " [0.0000e+00 0.0000e+00 3.7870e+00 6.2000e-02]\n",
      " [0.0000e+00 0.0000e+00 0.0000e+00 7.0690e+00]\n",
      " [0.0000e+00 3.1080e+00 0.0000e+00 7.0000e-03]] \t\n"
     ]
    }
   ],
   "source": [
    "V = np.array([[2, 0, 2, 1], \n",
    "              [1, 2, 1, 2], \n",
    "              [1, 1, 0, 2],\n",
    "              [0, 5, 4, 2],\n",
    "              [9, 2, 0, 0],\n",
    "              [10, 0, 1,0],])\n",
    "\n",
    "\n",
    "model = NMF(n_components=4)\n",
    "W = model.fit_transform(V)  # جدول الگوها\n",
    "H = model.components_       # جدول ترکیب‌ها\n",
    "\n",
    "W =  np.round(W, 3)\n",
    "H =  np.round(H, 3)\n",
    "\n",
    "print(\"الگوها (W):\\n\", W,\"\\n\")\n",
    "print(\"ترکیب‌ها (H):\\n\", H,\"\\t\")"
   ]
  },
  {
   "cell_type": "code",
   "execution_count": 45,
   "id": "3a7af22e-aed4-4434-948c-f76ab99478d8",
   "metadata": {},
   "outputs": [
    {
     "data": {
      "text/plain": [
       "array([[2.001620e+00, 0.000000e+00, 1.999536e+00, 1.001189e+00],\n",
       "       [1.000810e+00, 1.998444e+00, 9.997680e-01, 2.000189e+00],\n",
       "       [1.000810e+00, 1.000776e+00, 0.000000e+00, 2.002781e+00],\n",
       "       [0.000000e+00, 5.000772e+00, 3.999072e+00, 1.999503e+00],\n",
       "       [8.995085e+00, 1.998444e+00, 0.000000e+00, 4.501000e-03],\n",
       "       [9.995895e+00, 0.000000e+00, 9.997680e-01, 1.636800e-02]])"
      ]
     },
     "execution_count": 45,
     "metadata": {},
     "output_type": "execute_result"
    }
   ],
   "source": [
    "V = np.array([[2, 0, 2, 1], \n",
    "              [1, 2, 1, 2], \n",
    "              [1, 1, 0, 2],\n",
    "              [0, 5, 4, 2],\n",
    "              [9, 2, 0, 0],\n",
    "              [10, 0, 1,0],])\n",
    "new_V = np.dot(W, H)\n",
    "new_V"
   ]
  },
  {
   "cell_type": "code",
   "execution_count": 46,
   "id": "849b4d4f-44b4-4efd-be26-af181de84fc7",
   "metadata": {},
   "outputs": [
    {
     "name": "stdout",
     "output_type": "stream",
     "text": [
      "0.0\n"
     ]
    }
   ],
   "source": [
    "sub = np.subtract(V,new_V)\n",
    "eq = np.square(sub)\n",
    "error= np.sum(eq)\n",
    "error =  np.round(error, 3)\n",
    "print(error)"
   ]
  },
  {
   "cell_type": "markdown",
   "id": "17ed2038-795f-4d1c-8122-aed019cc3a2e",
   "metadata": {},
   "source": [
    "<b>if k  = 2 :👇</b>"
   ]
  },
  {
   "cell_type": "code",
   "execution_count": 47,
   "id": "33d2c90d-9f05-4c05-b357-4c78f81f59c3",
   "metadata": {},
   "outputs": [
    {
     "name": "stdout",
     "output_type": "stream",
     "text": [
      "الگوها (W):\n",
      " [[3.060e-01 4.510e-01]\n",
      " [1.500e-01 8.870e-01]\n",
      " [1.490e-01 4.760e-01]\n",
      " [2.000e-03 2.136e+00]\n",
      " [1.393e+00 3.000e-01]\n",
      " [1.544e+00 0.000e+00]] \n",
      "\n",
      "ترکیب‌ها (H):\n",
      " [[6.472e+00 3.400e-01 2.220e-01 0.000e+00]\n",
      " [4.000e-03 2.261e+00 1.732e+00 1.269e+00]] \t\n"
     ]
    }
   ],
   "source": [
    "V = np.array([[2, 0, 2, 1], \n",
    "              [1, 2, 1, 2], \n",
    "              [1, 1, 0, 2],\n",
    "              [0, 5, 4, 2],\n",
    "              [9, 2, 0, 0],\n",
    "              [10, 0, 1,0],])\n",
    "\n",
    "\n",
    "model = NMF(n_components=2)\n",
    "W = model.fit_transform(V)  # جدول الگوها\n",
    "H = model.components_       # جدول ترکیب‌ها\n",
    "\n",
    "W =  np.round(W, 3)\n",
    "H =  np.round(H, 3)\n",
    "\n",
    "print(\"الگوها (W):\\n\", W,\"\\n\")\n",
    "print(\"ترکیب‌ها (H):\\n\", H,\"\\t\")"
   ]
  },
  {
   "cell_type": "code",
   "execution_count": 48,
   "id": "a8923986-9153-4dab-b0f2-de99810c0223",
   "metadata": {},
   "outputs": [
    {
     "data": {
      "text/plain": [
       "array([[1.982236, 1.123751, 0.849064, 0.572319],\n",
       "       [0.974348, 2.056507, 1.569584, 1.125603],\n",
       "       [0.966232, 1.126896, 0.85751 , 0.604044],\n",
       "       [0.021488, 4.830176, 3.699996, 2.710584],\n",
       "       [9.016696, 1.15192 , 0.828846, 0.3807  ],\n",
       "       [9.992768, 0.52496 , 0.342768, 0.      ]])"
      ]
     },
     "execution_count": 48,
     "metadata": {},
     "output_type": "execute_result"
    }
   ],
   "source": [
    "V = np.array([[2, 0, 2, 1], \n",
    "              [1, 2, 1, 2], \n",
    "              [1, 1, 0, 2],\n",
    "              [0, 5, 4, 2],\n",
    "              [9, 2, 0, 0],\n",
    "              [10, 0, 1,0],])\n",
    "new_V = np.dot(W, H)\n",
    "new_V"
   ]
  },
  {
   "cell_type": "code",
   "execution_count": 49,
   "id": "b5fd716d-e75e-4029-af9b-cc458731f0e5",
   "metadata": {},
   "outputs": [
    {
     "name": "stdout",
     "output_type": "stream",
     "text": [
      "9.448\n"
     ]
    }
   ],
   "source": [
    "sub = np.subtract(V,new_V)\n",
    "eq = np.square(sub)\n",
    "error= np.sum(eq)\n",
    "error =  np.round(error, 3)\n",
    "print(error)"
   ]
  },
  {
   "cell_type": "code",
   "execution_count": null,
   "id": "5f338990-1247-4aad-b98d-36ba426f7cd0",
   "metadata": {},
   "outputs": [],
   "source": []
  }
 ],
 "metadata": {
  "kernelspec": {
   "display_name": "Python 3 (ipykernel)",
   "language": "python",
   "name": "python3"
  },
  "language_info": {
   "codemirror_mode": {
    "name": "ipython",
    "version": 3
   },
   "file_extension": ".py",
   "mimetype": "text/x-python",
   "name": "python",
   "nbconvert_exporter": "python",
   "pygments_lexer": "ipython3",
   "version": "3.13.7"
  }
 },
 "nbformat": 4,
 "nbformat_minor": 5
}

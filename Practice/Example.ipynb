{
 "cells": [
  {
   "cell_type": "markdown",
   "id": "42b65193-2c91-4233-9dcb-ddd9977650b0",
   "metadata": {},
   "source": [
    "q1: A program where the user finds the number guessed by the computer"
   ]
  },
  {
   "cell_type": "code",
   "execution_count": 1,
   "id": "c1706302-db55-4cdf-9ac6-cb5ec9804b8b",
   "metadata": {
    "scrolled": true
   },
   "outputs": [
    {
     "name": "stdin",
     "output_type": "stream",
     "text": [
      "number: 34\n"
     ]
    },
    {
     "name": "stdout",
     "output_type": "stream",
     "text": [
      "koucheck tar ast ! \n"
     ]
    },
    {
     "name": "stdin",
     "output_type": "stream",
     "text": [
      "number: 23\n"
     ]
    },
    {
     "name": "stdout",
     "output_type": "stream",
     "text": [
      "bozorg tar ast ! \n"
     ]
    },
    {
     "name": "stdin",
     "output_type": "stream",
     "text": [
      "number: 26\n"
     ]
    },
    {
     "name": "stdout",
     "output_type": "stream",
     "text": [
      "koucheck tar ast ! \n"
     ]
    },
    {
     "name": "stdin",
     "output_type": "stream",
     "text": [
      "number: 24\n"
     ]
    },
    {
     "name": "stdout",
     "output_type": "stream",
     "text": [
      "bozorg tar ast ! \n"
     ]
    },
    {
     "name": "stdin",
     "output_type": "stream",
     "text": [
      "number: 25\n"
     ]
    },
    {
     "name": "stdout",
     "output_type": "stream",
     "text": [
      "peyda kardi :)\n"
     ]
    },
    {
     "data": {
      "text/plain": [
       "5"
      ]
     },
     "execution_count": 1,
     "metadata": {},
     "output_type": "execute_result"
    }
   ],
   "source": [
    "import random \n",
    "y,c = 0,0\n",
    "x= random.randrange(1,50)\n",
    "while True:\n",
    "    y = int(input('number:'))\n",
    "    c+=1\n",
    "    if x>y:\n",
    "        print('bozorg tar ast ! ')\n",
    "    elif x<y:\n",
    "        print('koucheck tar ast ! ')\n",
    "    if x == y:\n",
    "        print('peyda kardi :)')\n",
    "        break\n",
    "c"
   ]
  },
  {
   "cell_type": "markdown",
   "id": "88126004-2a8e-4702-87d7-cd24cd3bae75",
   "metadata": {},
   "source": [
    "q2: Write a program which will find all such numbers which are divisible by 7 but are not a multiple of 5, between 2000 and 3200 (both included)."
   ]
  },
  {
   "cell_type": "code",
   "execution_count": 8,
   "id": "bd30f640-1be5-402e-bb5a-162aabd50650",
   "metadata": {},
   "outputs": [
    {
     "name": "stdout",
     "output_type": "stream",
     "text": [
      "[2002, 2009, 2016, 2023, 2030, 2037, 2044, 2051, 2058, 2065, 2072, 2079, 2086, 2093, 2100, 2107, 2114, 2121, 2128, 2135, 2142, 2149, 2156, 2163, 2170, 2177, 2184, 2191, 2198, 2205, 2212, 2219, 2226, 2233, 2240, 2247, 2254, 2261, 2268, 2275, 2282, 2289, 2296, 2303, 2310, 2317, 2324, 2331, 2338, 2345, 2352, 2359, 2366, 2373, 2380, 2387, 2394, 2401, 2408, 2415, 2422, 2429, 2436, 2443, 2450, 2457, 2464, 2471, 2478, 2485, 2492, 2499, 2506, 2513, 2520, 2527, 2534, 2541, 2548, 2555, 2562, 2569, 2576, 2583, 2590, 2597, 2604, 2611, 2618, 2625, 2632, 2639, 2646, 2653, 2660, 2667, 2674, 2681, 2688, 2695, 2702, 2709, 2716, 2723, 2730, 2737, 2744, 2751, 2758, 2765, 2772, 2779, 2786, 2793, 2800, 2807, 2814, 2821, 2828, 2835, 2842, 2849, 2856, 2863, 2870, 2877, 2884, 2891, 2898, 2905, 2912, 2919, 2926, 2933, 2940, 2947, 2954, 2961, 2968, 2975, 2982, 2989, 2996, 3003, 3010, 3017, 3024, 3031, 3038, 3045, 3052, 3059, 3066, 3073, 3080, 3087, 3094, 3101, 3108, 3115, 3122, 3129, 3136, 3143, 3150, 3157, 3164, 3171, 3178, 3185, 3192, 3199]\n"
     ]
    }
   ],
   "source": [
    "a = []\n",
    "for i in range(2000,3201):\n",
    "    if (i%7==0) and ((i/5)!= 0):\n",
    "        a.append(i)\n",
    "\n",
    "print(a)\n",
    "    "
   ]
  },
  {
   "cell_type": "markdown",
   "id": "6651436b-6b5f-461b-b029-a1be339faba8",
   "metadata": {},
   "source": [
    "q3: Write a program which can compute the factorial of a given numbers. The results should be printed in a comma-separated sequence on a single line. Suppose the following input is supplied to the program: 8 Then, the output should be: 40320"
   ]
  },
  {
   "cell_type": "code",
   "execution_count": 11,
   "id": "0a6dd2b5-4381-4413-920f-2c22b1de4ba2",
   "metadata": {},
   "outputs": [
    {
     "name": "stdin",
     "output_type": "stream",
     "text": [
      "Enter number 5\n"
     ]
    },
    {
     "data": {
      "text/plain": [
       "120"
      ]
     },
     "execution_count": 11,
     "metadata": {},
     "output_type": "execute_result"
    }
   ],
   "source": [
    "x= int(input('Enter number'))\n",
    "fact = 1\n",
    "for i in range (1,x+1):\n",
    "    fact *= i\n",
    "(fact)"
   ]
  },
  {
   "cell_type": "markdown",
   "id": "68df4536-c9af-4bd2-99b7-68f9b7f6ea02",
   "metadata": {},
   "source": [
    "q4 : Write a program that determines if a string is empty:"
   ]
  },
  {
   "cell_type": "code",
   "execution_count": 27,
   "id": "641361d1-d9d8-4628-bf6e-c366cec79ac4",
   "metadata": {},
   "outputs": [
    {
     "name": "stdin",
     "output_type": "stream",
     "text": [
      "Enter string: ,kt  dt345kt   ]c\\er4$%\n"
     ]
    },
    {
     "data": {
      "text/plain": [
       "False"
      ]
     },
     "execution_count": 27,
     "metadata": {},
     "output_type": "execute_result"
    }
   ],
   "source": [
    "import re\n",
    "x= input('Enter string:')\n",
    "def is_empty_or_whitespace(s):\n",
    "        return bool(re.fullmatch(r'^\\s*$', s))\n",
    "is_empty_or_whitespace(x)"
   ]
  },
  {
   "cell_type": "code",
   "execution_count": null,
   "id": "134639e4-c293-480d-9b7d-1795b03fbc3a",
   "metadata": {},
   "outputs": [],
   "source": []
  }
 ],
 "metadata": {
  "kernelspec": {
   "display_name": "Python 3 (ipykernel)",
   "language": "python",
   "name": "python3"
  },
  "language_info": {
   "codemirror_mode": {
    "name": "ipython",
    "version": 3
   },
   "file_extension": ".py",
   "mimetype": "text/x-python",
   "name": "python",
   "nbconvert_exporter": "python",
   "pygments_lexer": "ipython3",
   "version": "3.13.5"
  }
 },
 "nbformat": 4,
 "nbformat_minor": 5
}

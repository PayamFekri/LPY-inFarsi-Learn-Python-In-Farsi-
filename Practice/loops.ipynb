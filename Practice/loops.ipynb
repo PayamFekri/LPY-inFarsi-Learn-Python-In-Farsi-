{
 "cells": [
  {
   "cell_type": "markdown",
   "id": "f430e378-2df5-44cd-b634-4f3172b9b2d1",
   "metadata": {},
   "source": [
    "<h1>Loops in py</h1>\n",
    "<font size = 3 face = 'Georgia'><b>for</b> -> Used for iterating over a sequence (list, tuple, string, dictionary, etc.) or a range of numbers.</font>\n",
    "\n",
    "<font size = 3 face = 'Georgia'><b>while</b> -> Repeatedly executes a block of code as long as a condition is True.</font>\n"
   ]
  },
  {
   "cell_type": "markdown",
   "id": "0cbae850-c4ab-4647-bf0c-a653162f3752",
   "metadata": {},
   "source": [
    "<font size = 3>for i in range(start,end,step):\n",
    "    \n",
    "    ...commands\n",
    "\n",
    "</font>"
   ]
  },
  {
   "cell_type": "code",
   "execution_count": 13,
   "id": "4d67fd90-db2d-41ed-9055-a05d6e95afe6",
   "metadata": {},
   "outputs": [
    {
     "name": "stdout",
     "output_type": "stream",
     "text": [
      "-15\n",
      "-13\n",
      "-11\n",
      "-9\n",
      "-7\n",
      "-5\n",
      "-3\n",
      "-1\n"
     ]
    }
   ],
   "source": [
    "for i in range(-15,0,2):\n",
    "    print(i)"
   ]
  },
  {
   "cell_type": "code",
   "execution_count": 2,
   "id": "c6b895e7-2c73-4147-8458-45f338fc5f69",
   "metadata": {},
   "outputs": [
    {
     "name": "stdout",
     "output_type": "stream",
     "text": [
      "0 payam\n",
      "1 hassan\n",
      "2 papa\n"
     ]
    }
   ],
   "source": [
    "mylist = ['payam','hassan','papa']\n",
    "for i,j in enumerate(mylist):\n",
    "    print(i,j)"
   ]
  },
  {
   "cell_type": "code",
   "execution_count": 12,
   "id": "ecaeb81c-9ab8-43d8-a8e1-281bbfd47032",
   "metadata": {},
   "outputs": [
    {
     "name": "stdout",
     "output_type": "stream",
     "text": [
      "False 0 0 *\n",
      "False 0 1 *\n",
      "False 0 2 *\n",
      "False 0 3 *\n",
      "False 0 4 *\n",
      " \n",
      "True 1 0 *\n",
      "True 1 1 *\n",
      "True 1 2 *\n",
      "True 1 3 *\n",
      "True 1 4 *\n",
      " \n",
      "True 2 0 *\n",
      "True 2 1 *\n",
      "True 2 2 *\n",
      "True 2 3 *\n",
      "True 2 4 *\n",
      " \n"
     ]
    }
   ],
   "source": [
    "for i in range(3):\n",
    "    for j in range(5):\n",
    "        print(i>=1,i,j,'*')\n",
    "    print(' ')"
   ]
  },
  {
   "cell_type": "markdown",
   "id": "b62af845-0f77-4970-a53c-4b7c796ea55d",
   "metadata": {},
   "source": [
    "q: sum of all numbers from 1 to 100 using a loop."
   ]
  },
  {
   "cell_type": "code",
   "execution_count": 16,
   "id": "e4a7969f-60bd-4d53-9f15-8cf6915b2c8f",
   "metadata": {},
   "outputs": [
    {
     "data": {
      "text/plain": [
       "5050"
      ]
     },
     "execution_count": 16,
     "metadata": {},
     "output_type": "execute_result"
    }
   ],
   "source": [
    "s = 0\n",
    "for i in range(101):\n",
    "    s +=i\n",
    "s"
   ]
  },
  {
   "cell_type": "markdown",
   "id": "ffab264a-3167-4260-bca8-d8ff09842b08",
   "metadata": {},
   "source": [
    "q: Take 4 numbers and print the even numbers."
   ]
  },
  {
   "cell_type": "code",
   "execution_count": 20,
   "id": "877abba1-42c5-4b27-9ff3-25e4e7ea61fc",
   "metadata": {},
   "outputs": [
    {
     "name": "stdin",
     "output_type": "stream",
     "text": [
      "number: 45\n",
      "number: 32\n",
      "number: 36\n",
      "number: 13\n"
     ]
    },
    {
     "name": "stdout",
     "output_type": "stream",
     "text": [
      "32\n",
      "36\n"
     ]
    }
   ],
   "source": [
    "mlist = []\n",
    "for i in range(4):\n",
    "    x = int(input('number:'))\n",
    "    mlist.append(x)\n",
    "for i in mlist:\n",
    "    if i%2==0:\n",
    "        print(i)"
   ]
  },
  {
   "cell_type": "markdown",
   "id": "8a68cd28-1cab-4672-83f2-4be6a289e6e7",
   "metadata": {},
   "source": [
    "q : Print the multiplication table of 5 using a for loop."
   ]
  },
  {
   "cell_type": "code",
   "execution_count": 27,
   "id": "ce32e68a-0f7f-4cca-a4eb-5323292c3423",
   "metadata": {},
   "outputs": [
    {
     "name": "stdout",
     "output_type": "stream",
     "text": [
      "5 *  0  =  0\n",
      "5 *  1  =  5\n",
      "5 *  2  =  10\n",
      "5 *  3  =  15\n",
      "5 *  4  =  20\n",
      "5 *  5  =  25\n",
      "5 *  6  =  30\n",
      "5 *  7  =  35\n",
      "5 *  8  =  40\n",
      "5 *  9  =  45\n",
      "5 *  10  =  50\n"
     ]
    }
   ],
   "source": [
    "for i in range(0,11):\n",
    "    print('5 * ' , i ,' = ' ,5*i)"
   ]
  },
  {
   "cell_type": "code",
   "execution_count": 61,
   "id": "3e434ee9-6f44-4cdb-b26a-f9980489b82e",
   "metadata": {},
   "outputs": [
    {
     "name": "stdout",
     "output_type": "stream",
     "text": [
      "3\n",
      "9\n"
     ]
    }
   ],
   "source": [
    "def prime_hast(number : int):\n",
    "    mlist =[]\n",
    "    for i in range (2,number):\n",
    "        if number%i == 0:\n",
    "            print(i)\n",
    "# یک تابعی که ببینه اول هست یا نه؟\n",
    "def find_PrimeNumber(s,e):\n",
    "    for i in range (s,e):\n",
    "        if prime_hast(i):\n",
    "            print(i)\n",
    "#find_PrimeNumber(3,10)\n",
    "    #find_Counter(24)\n",
    "#find_PrimeNumber(2,15)\n",
    "prime_hast(27)"
   ]
  },
  {
   "cell_type": "code",
   "execution_count": 50,
   "id": "0cc2fbee-0e40-48e8-ab8e-e5903727874b",
   "metadata": {},
   "outputs": [],
   "source": [
    "def find_Counter(number : int):\n",
    "    mlist =[]\n",
    "    for i in range (2,number):\n",
    "        if number%i==0:\n",
    "            print(i)\n",
    "            mlist.append(i)"
   ]
  },
  {
   "cell_type": "code",
   "execution_count": null,
   "id": "87620240-bafc-4c86-9d4c-af245728bb83",
   "metadata": {},
   "outputs": [],
   "source": []
  }
 ],
 "metadata": {
  "kernelspec": {
   "display_name": "Python 3 (ipykernel)",
   "language": "python",
   "name": "python3"
  },
  "language_info": {
   "codemirror_mode": {
    "name": "ipython",
    "version": 3
   },
   "file_extension": ".py",
   "mimetype": "text/x-python",
   "name": "python",
   "nbconvert_exporter": "python",
   "pygments_lexer": "ipython3",
   "version": "3.13.5"
  }
 },
 "nbformat": 4,
 "nbformat_minor": 5
}

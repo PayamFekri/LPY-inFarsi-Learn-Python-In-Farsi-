{
 "cells": [
  {
   "cell_type": "markdown",
   "id": "42b65193-2c91-4233-9dcb-ddd9977650b0",
   "metadata": {},
   "source": [
    "A program where the user finds the number guessed by the computer"
   ]
  },
  {
   "cell_type": "code",
   "execution_count": 1,
   "id": "c1706302-db55-4cdf-9ac6-cb5ec9804b8b",
   "metadata": {
    "scrolled": true
   },
   "outputs": [
    {
     "name": "stdin",
     "output_type": "stream",
     "text": [
      "number: 34\n"
     ]
    },
    {
     "name": "stdout",
     "output_type": "stream",
     "text": [
      "koucheck tar ast ! \n"
     ]
    },
    {
     "name": "stdin",
     "output_type": "stream",
     "text": [
      "number: 23\n"
     ]
    },
    {
     "name": "stdout",
     "output_type": "stream",
     "text": [
      "bozorg tar ast ! \n"
     ]
    },
    {
     "name": "stdin",
     "output_type": "stream",
     "text": [
      "number: 26\n"
     ]
    },
    {
     "name": "stdout",
     "output_type": "stream",
     "text": [
      "koucheck tar ast ! \n"
     ]
    },
    {
     "name": "stdin",
     "output_type": "stream",
     "text": [
      "number: 24\n"
     ]
    },
    {
     "name": "stdout",
     "output_type": "stream",
     "text": [
      "bozorg tar ast ! \n"
     ]
    },
    {
     "name": "stdin",
     "output_type": "stream",
     "text": [
      "number: 25\n"
     ]
    },
    {
     "name": "stdout",
     "output_type": "stream",
     "text": [
      "peyda kardi :)\n"
     ]
    },
    {
     "data": {
      "text/plain": [
       "5"
      ]
     },
     "execution_count": 1,
     "metadata": {},
     "output_type": "execute_result"
    }
   ],
   "source": [
    "import random \n",
    "y,c = 0,0\n",
    "x= random.randrange(1,50)\n",
    "while True:\n",
    "    y = int(input('number:'))\n",
    "    c+=1\n",
    "    if x>y:\n",
    "        print('bozorg tar ast ! ')\n",
    "    elif x<y:\n",
    "        print('koucheck tar ast ! ')\n",
    "    if x == y:\n",
    "        print('peyda kardi :)')\n",
    "        break\n",
    "c"
   ]
  },
  {
   "cell_type": "code",
   "execution_count": null,
   "id": "b3f8023b-f6b6-4a65-a1fa-a0e3179d2594",
   "metadata": {},
   "outputs": [],
   "source": []
  }
 ],
 "metadata": {
  "kernelspec": {
   "display_name": "Python 3 (ipykernel)",
   "language": "python",
   "name": "python3"
  },
  "language_info": {
   "codemirror_mode": {
    "name": "ipython",
    "version": 3
   },
   "file_extension": ".py",
   "mimetype": "text/x-python",
   "name": "python",
   "nbconvert_exporter": "python",
   "pygments_lexer": "ipython3",
   "version": "3.13.5"
  }
 },
 "nbformat": 4,
 "nbformat_minor": 5
}
